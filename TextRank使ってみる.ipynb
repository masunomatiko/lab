{
  "nbformat": 4,
  "nbformat_minor": 0,
  "metadata": {
    "colab": {
      "name": "TextRank使ってみる.ipynb",
      "version": "0.3.2",
      "provenance": [],
      "collapsed_sections": [],
      "include_colab_link": true
    },
    "kernelspec": {
      "name": "python3",
      "display_name": "Python 3"
    }
  },
  "cells": [
    {
      "cell_type": "markdown",
      "metadata": {
        "id": "view-in-github",
        "colab_type": "text"
      },
      "source": [
        "<a href=\"https://colab.research.google.com/github/masunomatiko/lab/blob/master/TextRank%E4%BD%BF%E3%81%A3%E3%81%A6%E3%81%BF%E3%82%8B.ipynb\" target=\"_parent\"><img src=\"https://colab.research.google.com/assets/colab-badge.svg\" alt=\"Open In Colab\"/></a>"
      ]
    },
    {
      "metadata": {
        "id": "Z6i_cAdpwNcf",
        "colab_type": "text"
      },
      "cell_type": "markdown",
      "source": [
        "## TextRankを使って文章の中心になる単語を抽出したい\n",
        "TextRankは単語をノード、単語の類似度をや参照関係をエッジとしてPageRankのようにノードの滞在確率を求めることで、文章を要約するというもの。\n",
        "\n",
        "\n",
        "*   `summa` というライブラリ使える\n",
        "*   `pattern` というライブラリと併用するとクオリティが上がるらしい\n",
        "\n"
      ]
    },
    {
      "metadata": {
        "id": "CzA3ZSTWdMG2",
        "colab_type": "code",
        "outputId": "87edfa74-45ce-4f36-d8a6-1fbb2f34f973",
        "colab": {
          "base_uri": "https://localhost:8080/",
          "height": 224
        }
      },
      "cell_type": "code",
      "source": [
        "!pip install summa\n",
        "!pip install pattern\n",
        "from summa import keywords\n",
        "import pandas as pd"
      ],
      "execution_count": 3,
      "outputs": [
        {
          "output_type": "stream",
          "text": [
            "Requirement already satisfied: summa in /usr/local/lib/python3.6/dist-packages (1.2.0)\n",
            "Requirement already satisfied: scipy>=0.19 in /usr/local/lib/python3.6/dist-packages (from summa) (1.1.0)\n",
            "Requirement already satisfied: numpy>=1.8.2 in /usr/local/lib/python3.6/dist-packages (from scipy>=0.19->summa) (1.14.6)\n",
            "Collecting pattern\n",
            "  Using cached https://files.pythonhosted.org/packages/1e/07/b0e61b6c818ed4b6145fe01d1c341223aa6cfbc3928538ad1f2b890924a3/Pattern-3.6.0.tar.gz\n",
            "Requirement already satisfied: future in /usr/local/lib/python3.6/dist-packages (from pattern) (0.16.0)\n",
            "Collecting backports.csv (from pattern)\n",
            "  Using cached https://files.pythonhosted.org/packages/71/f7/5db9136de67021a6dce4eefbe50d46aa043e59ebb11c83d4ecfeb47b686e/backports.csv-1.0.6-py2.py3-none-any.whl\n",
            "Collecting mysqlclient (from pattern)\n",
            "  Using cached https://files.pythonhosted.org/packages/de/d7/919042fb7ed78a89e21c4e43d5daed90d5df18ec183bae3de493a7d9e3ed/mysqlclient-1.4.1.tar.gz\n",
            "\u001b[31mCommand \"python setup.py egg_info\" failed with error code 1 in /tmp/pip-install-8f1jeag2/mysqlclient/\u001b[0m\n"
          ],
          "name": "stdout"
        }
      ]
    },
    {
      "metadata": {
        "id": "DdiUmGjs58AV",
        "colab_type": "text"
      },
      "cell_type": "markdown",
      "source": [
        "NYT Corpusの記事本文でやってみる。<br>\n",
        "本当はNERがやりたかったんだけど記事本文からだと難しそう。"
      ]
    },
    {
      "metadata": {
        "id": "HWSDci_bJP4y",
        "colab_type": "code",
        "colab": {}
      },
      "cell_type": "code",
      "source": [
        "with open('121.txt') as f:\n",
        "  text = f.read()"
      ],
      "execution_count": 0,
      "outputs": []
    },
    {
      "metadata": {
        "id": "g7uvYBYMah2n",
        "colab_type": "code",
        "colab": {
          "base_uri": "https://localhost:8080/",
          "height": 663
        },
        "outputId": "81e71eae-ed53-4936-a966-11b227aa4d7b"
      },
      "cell_type": "code",
      "source": [
        "keywords.keywords(text, words=30).split('\\n')"
      ],
      "execution_count": 6,
      "outputs": [
        {
          "output_type": "execute_result",
          "data": {
            "text/plain": [
              "['radio',\n",
              " 'state',\n",
              " 'states',\n",
              " 'million',\n",
              " 'billion foreign',\n",
              " 'weeks',\n",
              " 'week',\n",
              " 'official',\n",
              " 'congress',\n",
              " 'south',\n",
              " 'department officials',\n",
              " 'increase',\n",
              " 'military aid',\n",
              " 'administration',\n",
              " 'security',\n",
              " 'right',\n",
              " 'rights',\n",
              " 'request',\n",
              " 'requests',\n",
              " 'requested',\n",
              " 'allocated',\n",
              " 'allocation',\n",
              " 'international',\n",
              " 'includes',\n",
              " 'include',\n",
              " 'today',\n",
              " 'grants',\n",
              " 'grant',\n",
              " 'publicly',\n",
              " 'public relations',\n",
              " 'el',\n",
              " 'salvador',\n",
              " 'briefing key',\n",
              " 'briefings',\n",
              " 'previously',\n",
              " 'previous',\n",
              " 'additional',\n",
              " 'addition']"
            ]
          },
          "metadata": {
            "tags": []
          },
          "execution_count": 6
        }
      ]
    },
    {
      "metadata": {
        "id": "YId9QxAN7Vc5",
        "colab_type": "text"
      },
      "cell_type": "markdown",
      "source": [
        "NERツールで記事本文から抽出したエンティティに対してやってみる。<br>さっきよりはましな気がするけどそれでも微妙。<br>\n",
        "**今回はTextRank使わないことにした。**"
      ]
    },
    {
      "metadata": {
        "id": "1a8Nn_iB6QW2",
        "colab_type": "code",
        "colab": {}
      },
      "cell_type": "code",
      "source": [
        "entities = ' '.join(pd.read_csv('121.csv')['title'])"
      ],
      "execution_count": 0,
      "outputs": []
    },
    {
      "metadata": {
        "id": "FfswCatOfda2",
        "colab_type": "code",
        "colab": {
          "base_uri": "https://localhost:8080/",
          "height": 544
        },
        "outputId": "77a869e8-94cf-4e4e-e7e2-83505b0691c9"
      },
      "cell_type": "code",
      "source": [
        "keywords.keywords(entities, words=30).split('\\n')"
      ],
      "execution_count": 10,
      "outputs": [
        {
          "output_type": "execute_result",
          "data": {
            "text/plain": [
              "['budget',\n",
              " 'united',\n",
              " 'states',\n",
              " 'state',\n",
              " 'military aid',\n",
              " 'money',\n",
              " 'official',\n",
              " 'government',\n",
              " 'foreign',\n",
              " 'million',\n",
              " 'law',\n",
              " 'program',\n",
              " 'congress',\n",
              " 'africa',\n",
              " 'news',\n",
              " 'public',\n",
              " 'dietary supplement',\n",
              " 'europe',\n",
              " 'radio',\n",
              " 'administration',\n",
              " 'allocation',\n",
              " 'corporation',\n",
              " 'finance',\n",
              " 'company',\n",
              " 'reagan',\n",
              " 'right',\n",
              " 'rights',\n",
              " 'department',\n",
              " 'national',\n",
              " 'nation',\n",
              " 'overseas']"
            ]
          },
          "metadata": {
            "tags": []
          },
          "execution_count": 10
        }
      ]
    },
    {
      "metadata": {
        "id": "eBA5a2FV7yEM",
        "colab_type": "code",
        "colab": {}
      },
      "cell_type": "code",
      "source": [
        "()"
      ],
      "execution_count": 0,
      "outputs": []
    }
  ]
}