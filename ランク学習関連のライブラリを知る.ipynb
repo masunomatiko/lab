{
  "nbformat": 4,
  "nbformat_minor": 0,
  "metadata": {
    "colab": {
      "name": "ランク学習関連のライブラリを知る.ipynb",
      "version": "0.3.2",
      "provenance": [],
      "include_colab_link": true
    },
    "kernelspec": {
      "display_name": "Python 3",
      "language": "python",
      "name": "python3"
    }
  },
  "cells": [
    {
      "cell_type": "markdown",
      "metadata": {
        "id": "view-in-github",
        "colab_type": "text"
      },
      "source": [
        "<a href=\"https://colab.research.google.com/github/masunomatiko/lab/blob/master/%E3%83%A9%E3%83%B3%E3%82%AF%E5%AD%A6%E7%BF%92%E9%96%A2%E9%80%A3%E3%81%AE%E3%83%A9%E3%82%A4%E3%83%96%E3%83%A9%E3%83%AA%E3%82%92%E7%9F%A5%E3%82%8B.ipynb\" target=\"_parent\"><img src=\"https://colab.research.google.com/assets/colab-badge.svg\" alt=\"Open In Colab\"/></a>"
      ]
    },
    {
      "metadata": {
        "id": "Fc031cVIiaAi",
        "colab_type": "code",
        "colab": {}
      },
      "cell_type": "code",
      "source": [
        "from sklearn.datasets import fetch_20newsgroups"
      ],
      "execution_count": 0,
      "outputs": []
    },
    {
      "metadata": {
        "id": "SIe8bcQLg_Fs",
        "colab_type": "text"
      },
      "cell_type": "markdown",
      "source": [
        "## 0. スコアリング"
      ]
    },
    {
      "metadata": {
        "id": "1YHZcb5ThMxg",
        "colab_type": "text"
      },
      "cell_type": "markdown",
      "source": [
        "### Tf-Idf\n",
        "**各文書を特徴付ける単語ほど大きくなる**<br>\n",
        "\n",
        "\n",
        "ある単語iについて、<br>\n",
        "Tf-Idf =（文書内での出現頻度）*（文書集合での出現頻度）"
      ]
    },
    {
      "metadata": {
        "id": "YvlTfTUanK30",
        "colab_type": "code",
        "colab": {}
      },
      "cell_type": "code",
      "source": [
        "from sklearn.feature_extraction.text import TfidfVectorizer\n",
        "vectorizer = TfidfVectorizer()\n",
        "vectorizer.fit_transform"
      ],
      "execution_count": 0,
      "outputs": []
    },
    {
      "metadata": {
        "id": "hR4ng6konK38",
        "colab_type": "code",
        "colab": {}
      },
      "cell_type": "code",
      "source": [
        ""
      ],
      "execution_count": 0,
      "outputs": []
    },
    {
      "metadata": {
        "id": "BPPVsthwjVhZ",
        "colab_type": "code",
        "colab": {}
      },
      "cell_type": "code",
      "source": [
        ""
      ],
      "execution_count": 0,
      "outputs": []
    },
    {
      "metadata": {
        "id": "7SlaQdq5jV07",
        "colab_type": "text"
      },
      "cell_type": "markdown",
      "source": [
        "### BM25\n",
        "TfIdfに加えて、**より短い文書において出現頻度の高い単語**ほど大きくなる<br>\n",
        "NDL = （文書の単語数） \\* （文書集合の平均単語数）<br>\n",
        "ある単語について、<br>\n",
        "CW = (TF \\* IDF \\* (k1 + 1) ) / (k1 \\* (1 - b + (b \\* NDL) + TF))\n",
        "\n"
      ]
    },
    {
      "metadata": {
        "id": "0yqRbKQunK3_",
        "colab_type": "code",
        "colab": {}
      },
      "cell_type": "code",
      "source": [
        ""
      ],
      "execution_count": 0,
      "outputs": []
    },
    {
      "metadata": {
        "id": "DjhA-eSQnpNW",
        "colab_type": "text"
      },
      "cell_type": "markdown",
      "source": [
        "## 1. 学習データ"
      ]
    },
    {
      "metadata": {
        "id": "8Qq_IfjZpVMl",
        "colab_type": "code",
        "colab": {}
      },
      "cell_type": "code",
      "source": [
        ""
      ],
      "execution_count": 0,
      "outputs": []
    },
    {
      "metadata": {
        "id": "HbPqNaDVrgvK",
        "colab_type": "code",
        "colab": {}
      },
      "cell_type": "code",
      "source": [
        ""
      ],
      "execution_count": 0,
      "outputs": []
    },
    {
      "metadata": {
        "id": "uqMvy_XerGAU",
        "colab_type": "code",
        "colab": {}
      },
      "cell_type": "code",
      "source": [
        ""
      ],
      "execution_count": 0,
      "outputs": []
    },
    {
      "metadata": {
        "id": "zJUA8yDLrGOE",
        "colab_type": "text"
      },
      "cell_type": "markdown",
      "source": [
        "## 2. 特徴量"
      ]
    },
    {
      "metadata": {
        "id": "731zrRI4rGdW",
        "colab_type": "code",
        "colab": {}
      },
      "cell_type": "code",
      "source": [
        ""
      ],
      "execution_count": 0,
      "outputs": []
    },
    {
      "metadata": {
        "id": "1Dup5OwNrGrn",
        "colab_type": "text"
      },
      "cell_type": "markdown",
      "source": [
        "## 3. 損失関数"
      ]
    },
    {
      "metadata": {
        "id": "Ki1XFQhxrG44",
        "colab_type": "code",
        "colab": {}
      },
      "cell_type": "code",
      "source": [
        ""
      ],
      "execution_count": 0,
      "outputs": []
    },
    {
      "metadata": {
        "id": "q-u_tAi6rHEr",
        "colab_type": "text"
      },
      "cell_type": "markdown",
      "source": [
        ""
      ]
    },
    {
      "metadata": {
        "id": "LghsRgFjrHtP",
        "colab_type": "code",
        "colab": {}
      },
      "cell_type": "code",
      "source": [
        ""
      ],
      "execution_count": 0,
      "outputs": []
    }
  ]
}