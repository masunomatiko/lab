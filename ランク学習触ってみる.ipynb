{
  "nbformat": 4,
  "nbformat_minor": 0,
  "metadata": {
    "colab": {
      "name": "ランク学習触ってみる.ipynb",
      "version": "0.3.2",
      "provenance": [],
      "include_colab_link": true
    },
    "kernelspec": {
      "name": "python3",
      "display_name": "Python 3"
    }
  },
  "cells": [
    {
      "cell_type": "markdown",
      "metadata": {
        "id": "view-in-github",
        "colab_type": "text"
      },
      "source": [
        "<a href=\"https://colab.research.google.com/github/masunomatiko/lab/blob/master/%E3%83%A9%E3%83%B3%E3%82%AF%E5%AD%A6%E7%BF%92%E8%A7%A6%E3%81%A3%E3%81%A6%E3%81%BF%E3%82%8B.ipynb\" target=\"_parent\"><img src=\"https://colab.research.google.com/assets/colab-badge.svg\" alt=\"Open In Colab\"/></a>"
      ]
    },
    {
      "metadata": {
        "id": "cj4h5gntLu_k",
        "colab_type": "text"
      },
      "cell_type": "markdown",
      "source": [
        "## LightGBM\n",
        "適当にデータフレーム作る"
      ]
    },
    {
      "metadata": {
        "id": "baZ_GjpCWL8Y",
        "colab_type": "code",
        "colab": {}
      },
      "cell_type": "code",
      "source": [
        "import pandas as pd\n",
        "\n",
        "df = pd.DataFrame([[4, 0.2, 0.4, 0.2], [1, 0.1, 0.14, 0.02]], index=['new', 'old'], columns=['score', 'f1', 'f2', 'f3'])\n",
        "df['f1'] = list(map(lambda x: '1:'+str(x), df['f1']))\n",
        "df['f2'] = list(map(lambda x: '2:'+str(x), df['f2']))\n",
        "df['f3'] = list(map(lambda x: '3:'+str(x), df['f3']))\n",
        "df.to_csv('lambdarank.csv', index=False, header=False, sep=' ')"
      ],
      "execution_count": 0,
      "outputs": []
    },
    {
      "metadata": {
        "id": "MT2gk2Dr-B-N",
        "colab_type": "code",
        "colab": {
          "base_uri": "https://localhost:8080/",
          "height": 111
        },
        "outputId": "c7d5ecfe-d4e7-43d4-f955-193d8a49ba61"
      },
      "cell_type": "code",
      "source": [
        "df"
      ],
      "execution_count": 2,
      "outputs": [
        {
          "output_type": "execute_result",
          "data": {
            "text/html": [
              "<div>\n",
              "<style scoped>\n",
              "    .dataframe tbody tr th:only-of-type {\n",
              "        vertical-align: middle;\n",
              "    }\n",
              "\n",
              "    .dataframe tbody tr th {\n",
              "        vertical-align: top;\n",
              "    }\n",
              "\n",
              "    .dataframe thead th {\n",
              "        text-align: right;\n",
              "    }\n",
              "</style>\n",
              "<table border=\"1\" class=\"dataframe\">\n",
              "  <thead>\n",
              "    <tr style=\"text-align: right;\">\n",
              "      <th></th>\n",
              "      <th>score</th>\n",
              "      <th>f1</th>\n",
              "      <th>f2</th>\n",
              "      <th>f3</th>\n",
              "    </tr>\n",
              "  </thead>\n",
              "  <tbody>\n",
              "    <tr>\n",
              "      <th>new</th>\n",
              "      <td>4</td>\n",
              "      <td>1:0.2</td>\n",
              "      <td>2:0.4</td>\n",
              "      <td>3:0.2</td>\n",
              "    </tr>\n",
              "    <tr>\n",
              "      <th>old</th>\n",
              "      <td>1</td>\n",
              "      <td>1:0.1</td>\n",
              "      <td>2:0.14</td>\n",
              "      <td>3:0.02</td>\n",
              "    </tr>\n",
              "  </tbody>\n",
              "</table>\n",
              "</div>"
            ],
            "text/plain": [
              "     score     f1      f2      f3\n",
              "new      4  1:0.2   2:0.4   3:0.2\n",
              "old      1  1:0.1  2:0.14  3:0.02"
            ]
          },
          "metadata": {
            "tags": []
          },
          "execution_count": 2
        }
      ]
    },
    {
      "metadata": {
        "id": "5nI2rosD-HeP",
        "colab_type": "text"
      },
      "cell_type": "markdown",
      "source": [
        "名前を付け直してディレクトリに置き、実行する。"
      ]
    },
    {
      "metadata": {
        "id": "JdEuWnsr-CqY",
        "colab_type": "code",
        "colab": {}
      },
      "cell_type": "code",
      "source": [
        ""
      ],
      "execution_count": 0,
      "outputs": []
    }
  ]
}