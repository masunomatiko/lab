{
  "nbformat": 4,
  "nbformat_minor": 0,
  "metadata": {
    "colab": {
      "name": "Fleiss' kappa.ipynb",
      "provenance": [],
      "collapsed_sections": [],
      "toc_visible": true,
      "authorship_tag": "ABX9TyOMb35/Fs6XnYBFtnMxK2YP",
      "include_colab_link": true
    },
    "kernelspec": {
      "name": "python3",
      "display_name": "Python 3"
    }
  },
  "cells": [
    {
      "cell_type": "markdown",
      "metadata": {
        "id": "view-in-github",
        "colab_type": "text"
      },
      "source": [
        "<a href=\"https://colab.research.google.com/github/masunomatiko/lab/blob/master/Fleiss'_kappa.ipynb\" target=\"_parent\"><img src=\"https://colab.research.google.com/assets/colab-badge.svg\" alt=\"Open In Colab\"/></a>"
      ]
    },
    {
      "cell_type": "code",
      "metadata": {
        "id": "J-wZFDOGzD0e",
        "colab_type": "code",
        "colab": {}
      },
      "source": [
        "import pandas as pd\n",
        "import numpy as np"
      ],
      "execution_count": 0,
      "outputs": []
    },
    {
      "cell_type": "code",
      "metadata": {
        "id": "hq4hK1hL0Pdp",
        "colab_type": "code",
        "colab": {}
      },
      "source": [
        "df1 = pd.read_csv('./f1440230.csv')\n",
        "df2 = pd.read_csv('./f1441250.csv')\n",
        "df3 = pd.read_csv('./f1442307.csv').drop(columns=['how_much_is_this_news_article_relevant_to_present_users_gold_reason',\\\n",
        "                                                  'how_well_does_this_result_match_the_query_gold',\\\n",
        "                                                  'how_well_does_this_result_match_the_query_gold_reason'\\\n",
        "                                                  ])\n",
        "df = pd.concat([df1, df2, df3])"
      ],
      "execution_count": 0,
      "outputs": []
    },
    {
      "cell_type": "code",
      "metadata": {
        "id": "xn3GDr_xAvmT",
        "colab_type": "code",
        "colab": {
          "base_uri": "https://localhost:8080/",
          "height": 136
        },
        "outputId": "7807c66b-7d43-4087-d820-c270d1b0132e"
      },
      "source": [
        "df1.columns"
      ],
      "execution_count": 3,
      "outputs": [
        {
          "output_type": "execute_result",
          "data": {
            "text/plain": [
              "Index(['_unit_id', '_created_at', '_golden', '_id', '_missed', '_started_at',\n",
              "       '_tainted', '_channel', '_trust', '_worker_id', '_country', '_region',\n",
              "       '_city', '_ip',\n",
              "       'how_much_is_this_news_article_relevant_to_present_users', 'doc_id',\n",
              "       'how_much_is_this_news_article_relevant_to_present_users_gold', 'query',\n",
              "       'text', 'title', 'year'],\n",
              "      dtype='object')"
            ]
          },
          "metadata": {
            "tags": []
          },
          "execution_count": 3
        }
      ]
    },
    {
      "cell_type": "code",
      "metadata": {
        "id": "FVMlHW_HAqFv",
        "colab_type": "code",
        "colab": {
          "base_uri": "https://localhost:8080/",
          "height": 136
        },
        "outputId": "9014f97c-2dda-47aa-cf80-f63aad53682a"
      },
      "source": [
        "df3.columns"
      ],
      "execution_count": 4,
      "outputs": [
        {
          "output_type": "execute_result",
          "data": {
            "text/plain": [
              "Index(['_unit_id', '_created_at', '_golden', '_id', '_missed', '_started_at',\n",
              "       '_tainted', '_channel', '_trust', '_worker_id', '_country', '_region',\n",
              "       '_city', '_ip',\n",
              "       'how_much_is_this_news_article_relevant_to_present_users', 'doc_id',\n",
              "       'how_much_is_this_news_article_relevant_to_present_users_gold', 'query',\n",
              "       'text', 'title', 'year'],\n",
              "      dtype='object')"
            ]
          },
          "metadata": {
            "tags": []
          },
          "execution_count": 4
        }
      ]
    },
    {
      "cell_type": "code",
      "metadata": {
        "id": "bQ0UYky2AaW5",
        "colab_type": "code",
        "colab": {
          "base_uri": "https://localhost:8080/",
          "height": 34
        },
        "outputId": "b9f2ab2e-320c-4518-deb1-fc76ec439116"
      },
      "source": [
        "df1.shape, df2.shape, df3.shape"
      ],
      "execution_count": 5,
      "outputs": [
        {
          "output_type": "execute_result",
          "data": {
            "text/plain": [
              "((4738, 21), (1222, 21), (4103, 21))"
            ]
          },
          "metadata": {
            "tags": []
          },
          "execution_count": 5
        }
      ]
    },
    {
      "cell_type": "code",
      "metadata": {
        "id": "_O6mG7mW0TYQ",
        "colab_type": "code",
        "colab": {
          "base_uri": "https://localhost:8080/",
          "height": 666
        },
        "outputId": "24126f6d-4ee6-4653-bb85-44ef8c7ab194"
      },
      "source": [
        "df.head()"
      ],
      "execution_count": 6,
      "outputs": [
        {
          "output_type": "execute_result",
          "data": {
            "text/html": [
              "<div>\n",
              "<style scoped>\n",
              "    .dataframe tbody tr th:only-of-type {\n",
              "        vertical-align: middle;\n",
              "    }\n",
              "\n",
              "    .dataframe tbody tr th {\n",
              "        vertical-align: top;\n",
              "    }\n",
              "\n",
              "    .dataframe thead th {\n",
              "        text-align: right;\n",
              "    }\n",
              "</style>\n",
              "<table border=\"1\" class=\"dataframe\">\n",
              "  <thead>\n",
              "    <tr style=\"text-align: right;\">\n",
              "      <th></th>\n",
              "      <th>_unit_id</th>\n",
              "      <th>_created_at</th>\n",
              "      <th>_golden</th>\n",
              "      <th>_id</th>\n",
              "      <th>_missed</th>\n",
              "      <th>_started_at</th>\n",
              "      <th>_tainted</th>\n",
              "      <th>_channel</th>\n",
              "      <th>_trust</th>\n",
              "      <th>_worker_id</th>\n",
              "      <th>_country</th>\n",
              "      <th>_region</th>\n",
              "      <th>_city</th>\n",
              "      <th>_ip</th>\n",
              "      <th>how_much_is_this_news_article_relevant_to_present_users</th>\n",
              "      <th>doc_id</th>\n",
              "      <th>how_much_is_this_news_article_relevant_to_present_users_gold</th>\n",
              "      <th>query</th>\n",
              "      <th>text</th>\n",
              "      <th>title</th>\n",
              "      <th>year</th>\n",
              "    </tr>\n",
              "  </thead>\n",
              "  <tbody>\n",
              "    <tr>\n",
              "      <th>0</th>\n",
              "      <td>2493064550</td>\n",
              "      <td>10/5/2019 02:17:52</td>\n",
              "      <td>False</td>\n",
              "      <td>5216643884</td>\n",
              "      <td>NaN</td>\n",
              "      <td>10/5/2019 02:17:32</td>\n",
              "      <td>False</td>\n",
              "      <td>clixsense</td>\n",
              "      <td>0.8125</td>\n",
              "      <td>45447404</td>\n",
              "      <td>USA</td>\n",
              "      <td>NY</td>\n",
              "      <td>New York</td>\n",
              "      <td>104.131.66.8</td>\n",
              "      <td>4_strongly_relevant</td>\n",
              "      <td>851148</td>\n",
              "      <td>NaN</td>\n",
              "      <td>acquired immune deficiency syndrome (aids)</td>\n",
              "      <td>The Centers for Disease Control and Prevention...</td>\n",
              "      <td>Growing Fast As a Factor In AIDS: Drugs</td>\n",
              "      <td>1996</td>\n",
              "    </tr>\n",
              "    <tr>\n",
              "      <th>1</th>\n",
              "      <td>2493064550</td>\n",
              "      <td>10/5/2019 02:18:38</td>\n",
              "      <td>False</td>\n",
              "      <td>5216644712</td>\n",
              "      <td>NaN</td>\n",
              "      <td>10/5/2019 02:17:23</td>\n",
              "      <td>False</td>\n",
              "      <td>feca</td>\n",
              "      <td>0.6250</td>\n",
              "      <td>45438493</td>\n",
              "      <td>USA</td>\n",
              "      <td>AZ</td>\n",
              "      <td>Phoenix</td>\n",
              "      <td>172.241.239.97</td>\n",
              "      <td>4_strongly_relevant</td>\n",
              "      <td>851148</td>\n",
              "      <td>NaN</td>\n",
              "      <td>acquired immune deficiency syndrome (aids)</td>\n",
              "      <td>The Centers for Disease Control and Prevention...</td>\n",
              "      <td>Growing Fast As a Factor In AIDS: Drugs</td>\n",
              "      <td>1996</td>\n",
              "    </tr>\n",
              "    <tr>\n",
              "      <th>2</th>\n",
              "      <td>2493064550</td>\n",
              "      <td>10/5/2019 02:19:29</td>\n",
              "      <td>False</td>\n",
              "      <td>5216645574</td>\n",
              "      <td>NaN</td>\n",
              "      <td>10/5/2019 02:17:23</td>\n",
              "      <td>False</td>\n",
              "      <td>feca</td>\n",
              "      <td>0.7778</td>\n",
              "      <td>45418638</td>\n",
              "      <td>VEN</td>\n",
              "      <td>07</td>\n",
              "      <td>Valencia</td>\n",
              "      <td>200.84.151.88</td>\n",
              "      <td>3_moderately_relevant</td>\n",
              "      <td>851148</td>\n",
              "      <td>NaN</td>\n",
              "      <td>acquired immune deficiency syndrome (aids)</td>\n",
              "      <td>The Centers for Disease Control and Prevention...</td>\n",
              "      <td>Growing Fast As a Factor In AIDS: Drugs</td>\n",
              "      <td>1996</td>\n",
              "    </tr>\n",
              "    <tr>\n",
              "      <th>3</th>\n",
              "      <td>2493064551</td>\n",
              "      <td>10/5/2019 02:14:57</td>\n",
              "      <td>False</td>\n",
              "      <td>5216640885</td>\n",
              "      <td>NaN</td>\n",
              "      <td>10/5/2019 02:14:35</td>\n",
              "      <td>False</td>\n",
              "      <td>feca</td>\n",
              "      <td>0.7500</td>\n",
              "      <td>45332116</td>\n",
              "      <td>USA</td>\n",
              "      <td>NaN</td>\n",
              "      <td>NaN</td>\n",
              "      <td>38.132.116.171</td>\n",
              "      <td>3_moderately_relevant</td>\n",
              "      <td>1028898</td>\n",
              "      <td>NaN</td>\n",
              "      <td>acquired immune deficiency syndrome (aids)</td>\n",
              "      <td>This helps answer a major question that has st...</td>\n",
              "      <td>Immune System Can Revive After AIDS, Studies S...</td>\n",
              "      <td>1998</td>\n",
              "    </tr>\n",
              "    <tr>\n",
              "      <th>4</th>\n",
              "      <td>2493064551</td>\n",
              "      <td>10/5/2019 02:15:08</td>\n",
              "      <td>False</td>\n",
              "      <td>5216641048</td>\n",
              "      <td>NaN</td>\n",
              "      <td>10/5/2019 02:14:37</td>\n",
              "      <td>False</td>\n",
              "      <td>feca</td>\n",
              "      <td>0.7692</td>\n",
              "      <td>45438681</td>\n",
              "      <td>USA</td>\n",
              "      <td>CA</td>\n",
              "      <td>San Francisco</td>\n",
              "      <td>104.236.195.72</td>\n",
              "      <td>3_moderately_relevant</td>\n",
              "      <td>1028898</td>\n",
              "      <td>NaN</td>\n",
              "      <td>acquired immune deficiency syndrome (aids)</td>\n",
              "      <td>This helps answer a major question that has st...</td>\n",
              "      <td>Immune System Can Revive After AIDS, Studies S...</td>\n",
              "      <td>1998</td>\n",
              "    </tr>\n",
              "  </tbody>\n",
              "</table>\n",
              "</div>"
            ],
            "text/plain": [
              "     _unit_id  ...  year\n",
              "0  2493064550  ...  1996\n",
              "1  2493064550  ...  1996\n",
              "2  2493064550  ...  1996\n",
              "3  2493064551  ...  1998\n",
              "4  2493064551  ...  1998\n",
              "\n",
              "[5 rows x 21 columns]"
            ]
          },
          "metadata": {
            "tags": []
          },
          "execution_count": 6
        }
      ]
    },
    {
      "cell_type": "code",
      "metadata": {
        "id": "4_lJd5xa7FSE",
        "colab_type": "code",
        "colab": {}
      },
      "source": [
        "labels = ['1_not_relevant',\n",
        " '2_weakly_relevant',\n",
        " '3_moderately_relevant',\n",
        " '4_strongly_relevant']"
      ],
      "execution_count": 0,
      "outputs": []
    },
    {
      "cell_type": "code",
      "metadata": {
        "id": "UECVG-2m6qel",
        "colab_type": "code",
        "colab": {}
      },
      "source": [
        "tmp = pd.pivot_table(df.query('how_much_is_this_news_article_relevant_to_present_users_gold not in {}'.format(labels)), values='_worker_id', index='doc_id', columns='how_much_is_this_news_article_relevant_to_present_users', aggfunc='count').fillna(0)"
      ],
      "execution_count": 0,
      "outputs": []
    },
    {
      "cell_type": "code",
      "metadata": {
        "id": "GPvjKuGOBR1b",
        "colab_type": "code",
        "colab": {}
      },
      "source": [
        "tmp['sum'] = tmp.sum(axis=1)"
      ],
      "execution_count": 0,
      "outputs": []
    },
    {
      "cell_type": "code",
      "metadata": {
        "id": "ESo8xQf7BlzL",
        "colab_type": "code",
        "colab": {}
      },
      "source": [
        "tmp2 = tmp[tmp['sum']==3].drop(columns=['sum'])"
      ],
      "execution_count": 0,
      "outputs": []
    },
    {
      "cell_type": "code",
      "metadata": {
        "id": "OnRMsU4t-bdQ",
        "colab_type": "code",
        "colab": {
          "base_uri": "https://localhost:8080/",
          "height": 136
        },
        "outputId": "fd0f718e-cdb3-4d2a-85af-03686cd7ceb8"
      },
      "source": [
        "tmp2.values"
      ],
      "execution_count": 11,
      "outputs": [
        {
          "output_type": "execute_result",
          "data": {
            "text/plain": [
              "array([[0., 0., 3., 0.],\n",
              "       [0., 0., 1., 2.],\n",
              "       [1., 1., 0., 1.],\n",
              "       ...,\n",
              "       [0., 0., 2., 1.],\n",
              "       [0., 1., 2., 0.],\n",
              "       [0., 2., 1., 0.]])"
            ]
          },
          "metadata": {
            "tags": []
          },
          "execution_count": 11
        }
      ]
    },
    {
      "cell_type": "code",
      "metadata": {
        "id": "FfERlU_s1YKQ",
        "colab_type": "code",
        "colab": {}
      },
      "source": [
        "def calc_fleiss_kappa(eval_data):\n",
        "    \"\"\"\n",
        "    calculate fleiss's kappa score for input evaluation data\n",
        "    Reference: https://en.wikipedia.org/wiki/Fleiss%27_kappa\n",
        "    \n",
        "    :params numpy.ndarray eval_data: num_of_targets * num_of_categories\n",
        "    :return: p_bar, pe_bar, fleiss's kappa score\n",
        "    :rtype: numpy.float, numpy.float, numpy.float|float\n",
        "    \"\"\"\n",
        "    N, k = eval_data.shape\n",
        "    n = np.sum(eval_data[0])\n",
        "    \n",
        "    # Verification of input parameters\n",
        "    if n < 2:\n",
        "        assert n < 2, 'The number of workers must be two or more.'\n",
        "    if not np.all(np.sum(eval_data, axis=1)==n):\n",
        "        \n",
        "        assert np.all(np.sum(eval_data, axis=1)==n), 'The same number of workers must be assined to any subjects.'\n",
        "    \n",
        "    p_bar = (np.sum(np.power(eval_data, 2)) - (N * n)) / (N * n * (n - 1))\n",
        "    pe_bar = np.sum(np.power(np.sum(eval_data, axis=0) / (N * n), 2))\n",
        "    \n",
        "    try:\n",
        "        kappa = (p_bar - pe_bar) / (1 - pe_bar)\n",
        "        return p_bar, pe_bar, kappa\n",
        "    except ZeroDivisionError as e:\n",
        "        # All worker's evaluations are probably equal.\n",
        "        return p_bar, pe_bar, 1.0"
      ],
      "execution_count": 0,
      "outputs": []
    },
    {
      "cell_type": "code",
      "metadata": {
        "id": "EXF5Kq6S2IEu",
        "colab_type": "code",
        "colab": {
          "base_uri": "https://localhost:8080/",
          "height": 34
        },
        "outputId": "153773c0-d6a7-4ad0-e2b8-06df731bf10f"
      },
      "source": [
        "p_bar, pe_bar, kappa_score = calc_fleiss_kappa(np.array(tmp2.values))\n",
        "print('p_bar = {:.3f}, pe_bar = {:.3f}, kappa = {:.3f}'.format(p_bar, pe_bar, kappa_score))"
      ],
      "execution_count": 13,
      "outputs": [
        {
          "output_type": "stream",
          "text": [
            "p_bar = 0.329, pe_bar = 0.303, kappa = 0.036\n"
          ],
          "name": "stdout"
        }
      ]
    },
    {
      "cell_type": "code",
      "metadata": {
        "id": "l4-hhEOgCxLg",
        "colab_type": "code",
        "colab": {}
      },
      "source": [
        ""
      ],
      "execution_count": 0,
      "outputs": []
    }
  ]
}