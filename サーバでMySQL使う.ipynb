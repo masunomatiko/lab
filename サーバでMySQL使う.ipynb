{
  "nbformat": 4,
  "nbformat_minor": 0,
  "metadata": {
    "colab": {
      "name": "サーバでMySQL使う.ipynb",
      "version": "0.3.2",
      "provenance": [],
      "collapsed_sections": [],
      "include_colab_link": true
    },
    "kernelspec": {
      "name": "python3",
      "display_name": "Python 3"
    }
  },
  "cells": [
    {
      "cell_type": "markdown",
      "metadata": {
        "id": "view-in-github",
        "colab_type": "text"
      },
      "source": [
        "<a href=\"https://colab.research.google.com/github/masunomatiko/lab/blob/master/%E3%82%B5%E3%83%BC%E3%83%90%E3%81%A7MySQL%E4%BD%BF%E3%81%86.ipynb\" target=\"_parent\"><img src=\"https://colab.research.google.com/assets/colab-badge.svg\" alt=\"Open In Colab\"/></a>"
      ]
    },
    {
      "metadata": {
        "id": "aR4t7y5BOOuq",
        "colab_type": "text"
      },
      "cell_type": "markdown",
      "source": [
        "## やりたいこと\n",
        "DBpediaのinternal linksのファイルが大きすぎてラップトップで扱えないので、**サーバでMySQLに入れてデータを抽出する**\n",
        "\n",
        "### インストール\n",
        "```\n",
        "sudo apt update\n",
        "sudo apt install mysql-server mysql-client\n",
        "```\n",
        "※サーバ係の人にsudo権限つけてもらうこと\n",
        "\n",
        "データベース作るとかテーブル作るとかは普通のMySQLと変わらない\n",
        "こんな感じで作った↓\n",
        "```\n",
        "mysql> show tables\n",
        "    -> ;\n",
        "+--------------------+\n",
        "| Tables_in_mrep |\n",
        "+--------------------+\n",
        "| link                       |\n",
        "+--------------------+\n",
        "1 row in set (0.00 sec)\n",
        "```\n",
        "\n",
        "### .ttlファイルからロードする\n",
        "このSQLで `page_links_wkd_uris_en.ttl` をlinkテーブルに入れる\n",
        "```\n",
        "mysql> LOAD DATA INFILE 'page_links_wkd_uris_en.ttl' INTO TABLE link\n",
        "    -> FIELDS TERMINATED BY ' '\n",
        "    -> LINES TERMINATED BY ' .'\n",
        "    -> IGNORE 1 LINES\n",
        "    -> ;\n",
        "```\n",
        "まず出たエラー\n",
        "```\n",
        "ERROR 1290 (HY000): The MySQL server is running with the --secure-file-priv option so it cannot execute this statement\n",
        "```\n",
        "このエラーでググって[見たページ](http://proengineer.internous.co.jp/content/columnfeature/6776#section200)を読んで `secure_file_priv` を空にしたらいいらしいと検討をつける\n",
        "\n",
        "で、 `my.cnf` を探す\n",
        "```\n",
        "私の名前@サーバの名前:~/ディレクトリ$ mysql --help | grep my.cnf\n",
        "                      order of preference, my.cnf, $MYSQL_TCP_PORT,\n",
        "/etc/my.cnf /etc/mysql/my.cnf ~/.my.cnf\n",
        "```\n",
        "左から順によばれるのでいちばん最後の `~/.my.cnf` を編集すると良い\n",
        "\n",
        "デフォルトでは `/etc/mysql/my.cnf` しかないのでこれに書けばいいのかなという感じだけど変わらなかった（[変わることもある](https://superuser.com/questions/1088512/how-to-disable-secure-file-priv-mysql-ubuntu)）ので `~/.my.cnf` を作成して編集\n",
        "```\n",
        "[mysqld]\n",
        "secure_file_priv=\"\"\n",
        "```\n",
        "MySQLを再起動するとちゃんと読み込まれてた（編集する前はValueにデフォルトのパスが書いてある）\n",
        "```\n",
        "mysql> SHOW VARIABLES LIKE \"secure_file_priv\";\n",
        "+---------------------+-------+\n",
        "| Variable_name    | Value |\n",
        "+---------------------+-------+\n",
        "| secure_file_priv  |           |\n",
        "+---------------------+-------+\n",
        "1 row in set (0.00 sec)\n",
        "```\n",
        "\n",
        "\n",
        "次に出たエラー\n",
        "```\n",
        "ERROR 13 (HY000): Can't get stat of '/var/lib/mysql/mrep/page_links_wkd_uris_en.ttl' (Errcode: 2 - No such file or directory)\n",
        "```\n",
        "LOAD DATA INFILEではファイルはサーバーホスト上（`/var/lib/mysql/` とか）にある必要があり、直接サーバによって読み取られる。\n",
        "\n",
        "LOAD DATA **LOCAL** INFILEという文だとMySQLのクライアント側にファイルを読み込ませることができるので今回はそっちを使う。\n",
        "```\n",
        "mysql> LOAD DATA LOCAL INFILE 'page_links_wkd_uris_en.ttl' INTO TABLE link\n",
        "    -> FIELDS TERMINATED BY ' '\n",
        "    -> LINES TERMINATED BY ' .'\n",
        "    -> IGNORE 1 LINES\n",
        "    -> ;\n",
        "```\n",
        "結果（速い）\n",
        "```\n",
        "Query OK, 138411792 rows affected (17 min 40.84 sec)\n",
        "Records: 138411792  Deleted: 0  Skipped: 0  Warnings: 0\n",
        "```"
      ]
    },
    {
      "metadata": {
        "id": "PbfNV50yP1ne",
        "colab_type": "code",
        "colab": {}
      },
      "cell_type": "code",
      "source": [
        ""
      ],
      "execution_count": 0,
      "outputs": []
    }
  ]
}