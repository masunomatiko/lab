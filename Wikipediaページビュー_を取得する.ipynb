{
  "nbformat": 4,
  "nbformat_minor": 0,
  "metadata": {
    "colab": {
      "name": "Wikipediaページビュー を取得する.ipynb",
      "version": "0.3.2",
      "provenance": [],
      "collapsed_sections": [],
      "include_colab_link": true
    },
    "kernelspec": {
      "name": "python3",
      "display_name": "Python 3"
    }
  },
  "cells": [
    {
      "cell_type": "markdown",
      "metadata": {
        "id": "view-in-github",
        "colab_type": "text"
      },
      "source": [
        "<a href=\"https://colab.research.google.com/github/masunomatiko/lab/blob/master/Wikipedia%E3%83%9A%E3%83%BC%E3%82%B8%E3%83%93%E3%83%A5%E3%83%BC_%E3%82%92%E5%8F%96%E5%BE%97%E3%81%99%E3%82%8B.ipynb\" target=\"_parent\"><img src=\"https://colab.research.google.com/assets/colab-badge.svg\" alt=\"Open In Colab\"/></a>"
      ]
    },
    {
      "metadata": {
        "id": "ZEdwyPtsNhUg",
        "colab_type": "text"
      },
      "cell_type": "markdown",
      "source": [
        "## やりたいこと\n",
        "Wikimedia REST APIを使ってWikipediaの記事ごとのベージビューを取得する。\n",
        "\n",
        "\n",
        "2015年7月1日から現在までのデータを取得できる。[このページ](https://wikimedia.org/api/rest_v1/)を参考にした。\n",
        "\n",
        "*   **project** : 今回は英語版Wikiを対象にするので `en.wikipedia.org`\n",
        "*   **access** : どの媒体での閲覧か選べる（desktop / mobile）\n",
        "*  **agent** : どのエージェントか選べる（user / bot）<s> この発想はなかった笑 </s>\n",
        "* **article** : 記事のタイトル。正式名称が必要っぽい。スペースはアンスコに置き換えること。\n",
        "* **granuarity** : 時間の粒度（daily / monthly）年ごととか全部まとめてとか便利なのはない\n",
        "* **start / end** : 期間\n"
      ]
    },
    {
      "metadata": {
        "id": "nJsEmSx5Muen",
        "colab_type": "code",
        "colab": {}
      },
      "cell_type": "code",
      "source": [
        "import requests\n",
        "import time"
      ],
      "execution_count": 0,
      "outputs": []
    },
    {
      "metadata": {
        "id": "HHFGcXZ5dLnK",
        "colab_type": "text"
      },
      "cell_type": "markdown",
      "source": [
        "とりあえず叩いてみる。"
      ]
    },
    {
      "metadata": {
        "id": "uAaCoFkDNZy_",
        "colab_type": "code",
        "colab": {
          "base_uri": "https://localhost:8080/",
          "height": 88
        },
        "outputId": "d0ee24b8-9621-48f2-d6e2-6a9dfb3b7764"
      },
      "cell_type": "code",
      "source": [
        "%%time\n",
        "url = \"https://wikimedia.org/api/rest_v1/metrics/pageviews/per-article/en.wikipedia.org/all-access/all-agents/Michael_Jackson/monthly/20150701/20190201\"\n",
        "headers = {\"User-Agent\": \"msato@db.soc.i.kyoto-u.ac.jp\"}\n",
        "\n",
        "r = requests.get(url, headers=headers)\n",
        "print(r.json())"
      ],
      "execution_count": 4,
      "outputs": [
        {
          "output_type": "stream",
          "text": [
            "{'items': [{'project': 'en.wikipedia', 'article': 'Michael_Jackson', 'granularity': 'monthly', 'timestamp': '2015070100', 'access': 'all-access', 'agent': 'all-agents', 'views': 605905}, {'project': 'en.wikipedia', 'article': 'Michael_Jackson', 'granularity': 'monthly', 'timestamp': '2015080100', 'access': 'all-access', 'agent': 'all-agents', 'views': 676347}, {'project': 'en.wikipedia', 'article': 'Michael_Jackson', 'granularity': 'monthly', 'timestamp': '2015090100', 'access': 'all-access', 'agent': 'all-agents', 'views': 565424}, {'project': 'en.wikipedia', 'article': 'Michael_Jackson', 'granularity': 'monthly', 'timestamp': '2015100100', 'access': 'all-access', 'agent': 'all-agents', 'views': 642090}, {'project': 'en.wikipedia', 'article': 'Michael_Jackson', 'granularity': 'monthly', 'timestamp': '2015110100', 'access': 'all-access', 'agent': 'all-agents', 'views': 606441}, {'project': 'en.wikipedia', 'article': 'Michael_Jackson', 'granularity': 'monthly', 'timestamp': '2015120100', 'access': 'all-access', 'agent': 'all-agents', 'views': 610473}, {'project': 'en.wikipedia', 'article': 'Michael_Jackson', 'granularity': 'monthly', 'timestamp': '2016010100', 'access': 'all-access', 'agent': 'all-agents', 'views': 689774}, {'project': 'en.wikipedia', 'article': 'Michael_Jackson', 'granularity': 'monthly', 'timestamp': '2016020100', 'access': 'all-access', 'agent': 'all-agents', 'views': 807970}, {'project': 'en.wikipedia', 'article': 'Michael_Jackson', 'granularity': 'monthly', 'timestamp': '2016030100', 'access': 'all-access', 'agent': 'all-agents', 'views': 742199}, {'project': 'en.wikipedia', 'article': 'Michael_Jackson', 'granularity': 'monthly', 'timestamp': '2016040100', 'access': 'all-access', 'agent': 'all-agents', 'views': 1064665}, {'project': 'en.wikipedia', 'article': 'Michael_Jackson', 'granularity': 'monthly', 'timestamp': '2016050100', 'access': 'all-access', 'agent': 'all-agents', 'views': 729509}, {'project': 'en.wikipedia', 'article': 'Michael_Jackson', 'granularity': 'monthly', 'timestamp': '2016060100', 'access': 'all-access', 'agent': 'all-agents', 'views': 723962}, {'project': 'en.wikipedia', 'article': 'Michael_Jackson', 'granularity': 'monthly', 'timestamp': '2016070100', 'access': 'all-access', 'agent': 'all-agents', 'views': 591706}, {'project': 'en.wikipedia', 'article': 'Michael_Jackson', 'granularity': 'monthly', 'timestamp': '2016080100', 'access': 'all-access', 'agent': 'all-agents', 'views': 665905}, {'project': 'en.wikipedia', 'article': 'Michael_Jackson', 'granularity': 'monthly', 'timestamp': '2016090100', 'access': 'all-access', 'agent': 'all-agents', 'views': 591683}, {'project': 'en.wikipedia', 'article': 'Michael_Jackson', 'granularity': 'monthly', 'timestamp': '2016100100', 'access': 'all-access', 'agent': 'all-agents', 'views': 611007}, {'project': 'en.wikipedia', 'article': 'Michael_Jackson', 'granularity': 'monthly', 'timestamp': '2016110100', 'access': 'all-access', 'agent': 'all-agents', 'views': 601906}, {'project': 'en.wikipedia', 'article': 'Michael_Jackson', 'granularity': 'monthly', 'timestamp': '2016120100', 'access': 'all-access', 'agent': 'all-agents', 'views': 767005}, {'project': 'en.wikipedia', 'article': 'Michael_Jackson', 'granularity': 'monthly', 'timestamp': '2017010100', 'access': 'all-access', 'agent': 'all-agents', 'views': 847570}, {'project': 'en.wikipedia', 'article': 'Michael_Jackson', 'granularity': 'monthly', 'timestamp': '2017020100', 'access': 'all-access', 'agent': 'all-agents', 'views': 755432}, {'project': 'en.wikipedia', 'article': 'Michael_Jackson', 'granularity': 'monthly', 'timestamp': '2017030100', 'access': 'all-access', 'agent': 'all-agents', 'views': 784436}, {'project': 'en.wikipedia', 'article': 'Michael_Jackson', 'granularity': 'monthly', 'timestamp': '2017040100', 'access': 'all-access', 'agent': 'all-agents', 'views': 630905}, {'project': 'en.wikipedia', 'article': 'Michael_Jackson', 'granularity': 'monthly', 'timestamp': '2017050100', 'access': 'all-access', 'agent': 'all-agents', 'views': 800684}, {'project': 'en.wikipedia', 'article': 'Michael_Jackson', 'granularity': 'monthly', 'timestamp': '2017060100', 'access': 'all-access', 'agent': 'all-agents', 'views': 758755}, {'project': 'en.wikipedia', 'article': 'Michael_Jackson', 'granularity': 'monthly', 'timestamp': '2017070100', 'access': 'all-access', 'agent': 'all-agents', 'views': 648281}, {'project': 'en.wikipedia', 'article': 'Michael_Jackson', 'granularity': 'monthly', 'timestamp': '2017080100', 'access': 'all-access', 'agent': 'all-agents', 'views': 793015}, {'project': 'en.wikipedia', 'article': 'Michael_Jackson', 'granularity': 'monthly', 'timestamp': '2017090100', 'access': 'all-access', 'agent': 'all-agents', 'views': 653897}, {'project': 'en.wikipedia', 'article': 'Michael_Jackson', 'granularity': 'monthly', 'timestamp': '2017100100', 'access': 'all-access', 'agent': 'all-agents', 'views': 695242}, {'project': 'en.wikipedia', 'article': 'Michael_Jackson', 'granularity': 'monthly', 'timestamp': '2017110100', 'access': 'all-access', 'agent': 'all-agents', 'views': 706628}, {'project': 'en.wikipedia', 'article': 'Michael_Jackson', 'granularity': 'monthly', 'timestamp': '2017120100', 'access': 'all-access', 'agent': 'all-agents', 'views': 693604}, {'project': 'en.wikipedia', 'article': 'Michael_Jackson', 'granularity': 'monthly', 'timestamp': '2018010100', 'access': 'all-access', 'agent': 'all-agents', 'views': 746100}, {'project': 'en.wikipedia', 'article': 'Michael_Jackson', 'granularity': 'monthly', 'timestamp': '2018020100', 'access': 'all-access', 'agent': 'all-agents', 'views': 727646}, {'project': 'en.wikipedia', 'article': 'Michael_Jackson', 'granularity': 'monthly', 'timestamp': '2018030100', 'access': 'all-access', 'agent': 'all-agents', 'views': 748198}, {'project': 'en.wikipedia', 'article': 'Michael_Jackson', 'granularity': 'monthly', 'timestamp': '2018040100', 'access': 'all-access', 'agent': 'all-agents', 'views': 712570}, {'project': 'en.wikipedia', 'article': 'Michael_Jackson', 'granularity': 'monthly', 'timestamp': '2018050100', 'access': 'all-access', 'agent': 'all-agents', 'views': 818206}, {'project': 'en.wikipedia', 'article': 'Michael_Jackson', 'granularity': 'monthly', 'timestamp': '2018060100', 'access': 'all-access', 'agent': 'all-agents', 'views': 966738}, {'project': 'en.wikipedia', 'article': 'Michael_Jackson', 'granularity': 'monthly', 'timestamp': '2018070100', 'access': 'all-access', 'agent': 'all-agents', 'views': 801840}, {'project': 'en.wikipedia', 'article': 'Michael_Jackson', 'granularity': 'monthly', 'timestamp': '2018080100', 'access': 'all-access', 'agent': 'all-agents', 'views': 1080159}, {'project': 'en.wikipedia', 'article': 'Michael_Jackson', 'granularity': 'monthly', 'timestamp': '2018090100', 'access': 'all-access', 'agent': 'all-agents', 'views': 744777}, {'project': 'en.wikipedia', 'article': 'Michael_Jackson', 'granularity': 'monthly', 'timestamp': '2018100100', 'access': 'all-access', 'agent': 'all-agents', 'views': 718965}, {'project': 'en.wikipedia', 'article': 'Michael_Jackson', 'granularity': 'monthly', 'timestamp': '2018110100', 'access': 'all-access', 'agent': 'all-agents', 'views': 756747}, {'project': 'en.wikipedia', 'article': 'Michael_Jackson', 'granularity': 'monthly', 'timestamp': '2018120100', 'access': 'all-access', 'agent': 'all-agents', 'views': 792575}, {'project': 'en.wikipedia', 'article': 'Michael_Jackson', 'granularity': 'monthly', 'timestamp': '2019010100', 'access': 'all-access', 'agent': 'all-agents', 'views': 905205}]}\n",
            "CPU times: user 12.9 ms, sys: 2.97 ms, total: 15.8 ms\n",
            "Wall time: 507 ms\n"
          ],
          "name": "stdout"
        }
      ]
    },
    {
      "metadata": {
        "id": "-ASfvtUzdanh",
        "colab_type": "text"
      },
      "cell_type": "markdown",
      "source": [
        "結果を集計する。"
      ]
    },
    {
      "metadata": {
        "id": "ysEv8aFraqf9",
        "colab_type": "code",
        "colab": {
          "base_uri": "https://localhost:8080/",
          "height": 34
        },
        "outputId": "186e0063-e4fb-4f05-d607-4ef54aca24af"
      },
      "cell_type": "code",
      "source": [
        "total_page_view = 0\n",
        "for item in r.json()['items']:\n",
        "  total_page_view += item['views']\n",
        "print(total_page_view)"
      ],
      "execution_count": 5,
      "outputs": [
        {
          "output_type": "stream",
          "text": [
            "31582146\n"
          ],
          "name": "stdout"
        }
      ]
    },
    {
      "metadata": {
        "id": "Sei7ElLRd3VU",
        "colab_type": "code",
        "colab": {}
      },
      "cell_type": "code",
      "source": [
        ""
      ],
      "execution_count": 0,
      "outputs": []
    }
  ]
}