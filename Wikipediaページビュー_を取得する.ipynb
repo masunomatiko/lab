{
  "nbformat": 4,
  "nbformat_minor": 0,
  "metadata": {
    "colab": {
      "name": "Wikipediaページビュー を取得する.ipynb",
      "version": "0.3.2",
      "provenance": [],
      "collapsed_sections": [],
      "include_colab_link": true
    },
    "kernelspec": {
      "name": "python3",
      "display_name": "Python 3"
    }
  },
  "cells": [
    {
      "cell_type": "markdown",
      "metadata": {
        "id": "view-in-github",
        "colab_type": "text"
      },
      "source": [
        "<a href=\"https://colab.research.google.com/github/masunomatiko/lab/blob/master/Wikipedia%E3%83%9A%E3%83%BC%E3%82%B8%E3%83%93%E3%83%A5%E3%83%BC_%E3%82%92%E5%8F%96%E5%BE%97%E3%81%99%E3%82%8B.ipynb\" target=\"_parent\"><img src=\"https://colab.research.google.com/assets/colab-badge.svg\" alt=\"Open In Colab\"/></a>"
      ]
    },
    {
      "metadata": {
        "id": "ZEdwyPtsNhUg",
        "colab_type": "text"
      },
      "cell_type": "markdown",
      "source": [
        "## やりたいこと\n",
        "Wikimedia REST APIを使ってWikipediaの記事ごとのベージビューを取得する。\n",
        "\n",
        "\n",
        "2015年7月1日から現在までのデータを取得できる。[このページ](https://wikimedia.org/api/rest_v1/)を参考にした。\n",
        "\n",
        "*   **project** : 今回は英語版Wikiを対象にするので `en.wikipedia.org`\n",
        "*   **access** : どの媒体での閲覧か選べる（desktop / mobile）\n",
        "*  **agent** : どのエージェントか選べる（user / bot）<s> この発想はなかった笑 </s>\n",
        "* **article** : 記事のタイトル。正式名称が必要っぽい。スペースはアンスコ、`&amp;`は％26、/は%2F等々URLのエスケープシーケンスに置き換えること。\n",
        "* **granuarity** : 時間の粒度（daily / monthly）年ごととか全部まとめてとか便利なのはない\n",
        "* **start / end** : 期間\n"
      ]
    },
    {
      "metadata": {
        "id": "nJsEmSx5Muen",
        "colab_type": "code",
        "colab": {}
      },
      "cell_type": "code",
      "source": [
        "import requests\n",
        "import time"
      ],
      "execution_count": 0,
      "outputs": []
    },
    {
      "metadata": {
        "id": "HHFGcXZ5dLnK",
        "colab_type": "text"
      },
      "cell_type": "markdown",
      "source": [
        "とりあえず叩いてみる。"
      ]
    },
    {
      "metadata": {
        "id": "uAaCoFkDNZy_",
        "colab_type": "code",
        "outputId": "fd89218d-543d-4ccf-a42a-d412d417a555",
        "colab": {
          "base_uri": "https://localhost:8080/",
          "height": 88
        }
      },
      "cell_type": "code",
      "source": [
        "%%time\n",
        "url = \"https://wikimedia.org/api/rest_v1/metrics/pageviews/per-article/en.wikipedia.org/all-access/all-agents/Dance_Magazine's_%2225_to_Watch%22/monthly/20150701/20190201\"\n",
        "headers = {\"User-Agent\": \"msato@db.soc.i.kyoto-u.ac.jp\"}\n",
        "\n",
        "r = requests.get(url, headers=headers)\n",
        "print(r.json())"
      ],
      "execution_count": 13,
      "outputs": [
        {
          "output_type": "stream",
          "text": [
            "{'items': [{'project': 'en.wikipedia', 'article': 'Dance_Magazine\\'s_\"25_to_Watch\"', 'granularity': 'monthly', 'timestamp': '2015070100', 'access': 'all-access', 'agent': 'all-agents', 'views': 447}, {'project': 'en.wikipedia', 'article': 'Dance_Magazine\\'s_\"25_to_Watch\"', 'granularity': 'monthly', 'timestamp': '2015080100', 'access': 'all-access', 'agent': 'all-agents', 'views': 370}, {'project': 'en.wikipedia', 'article': 'Dance_Magazine\\'s_\"25_to_Watch\"', 'granularity': 'monthly', 'timestamp': '2015090100', 'access': 'all-access', 'agent': 'all-agents', 'views': 279}, {'project': 'en.wikipedia', 'article': 'Dance_Magazine\\'s_\"25_to_Watch\"', 'granularity': 'monthly', 'timestamp': '2015100100', 'access': 'all-access', 'agent': 'all-agents', 'views': 311}, {'project': 'en.wikipedia', 'article': 'Dance_Magazine\\'s_\"25_to_Watch\"', 'granularity': 'monthly', 'timestamp': '2015110100', 'access': 'all-access', 'agent': 'all-agents', 'views': 266}, {'project': 'en.wikipedia', 'article': 'Dance_Magazine\\'s_\"25_to_Watch\"', 'granularity': 'monthly', 'timestamp': '2015120100', 'access': 'all-access', 'agent': 'all-agents', 'views': 385}, {'project': 'en.wikipedia', 'article': 'Dance_Magazine\\'s_\"25_to_Watch\"', 'granularity': 'monthly', 'timestamp': '2016010100', 'access': 'all-access', 'agent': 'all-agents', 'views': 344}, {'project': 'en.wikipedia', 'article': 'Dance_Magazine\\'s_\"25_to_Watch\"', 'granularity': 'monthly', 'timestamp': '2016020100', 'access': 'all-access', 'agent': 'all-agents', 'views': 351}, {'project': 'en.wikipedia', 'article': 'Dance_Magazine\\'s_\"25_to_Watch\"', 'granularity': 'monthly', 'timestamp': '2016030100', 'access': 'all-access', 'agent': 'all-agents', 'views': 234}, {'project': 'en.wikipedia', 'article': 'Dance_Magazine\\'s_\"25_to_Watch\"', 'granularity': 'monthly', 'timestamp': '2016040100', 'access': 'all-access', 'agent': 'all-agents', 'views': 238}, {'project': 'en.wikipedia', 'article': 'Dance_Magazine\\'s_\"25_to_Watch\"', 'granularity': 'monthly', 'timestamp': '2016050100', 'access': 'all-access', 'agent': 'all-agents', 'views': 298}, {'project': 'en.wikipedia', 'article': 'Dance_Magazine\\'s_\"25_to_Watch\"', 'granularity': 'monthly', 'timestamp': '2016060100', 'access': 'all-access', 'agent': 'all-agents', 'views': 221}, {'project': 'en.wikipedia', 'article': 'Dance_Magazine\\'s_\"25_to_Watch\"', 'granularity': 'monthly', 'timestamp': '2016070100', 'access': 'all-access', 'agent': 'all-agents', 'views': 286}, {'project': 'en.wikipedia', 'article': 'Dance_Magazine\\'s_\"25_to_Watch\"', 'granularity': 'monthly', 'timestamp': '2016080100', 'access': 'all-access', 'agent': 'all-agents', 'views': 263}, {'project': 'en.wikipedia', 'article': 'Dance_Magazine\\'s_\"25_to_Watch\"', 'granularity': 'monthly', 'timestamp': '2016090100', 'access': 'all-access', 'agent': 'all-agents', 'views': 278}, {'project': 'en.wikipedia', 'article': 'Dance_Magazine\\'s_\"25_to_Watch\"', 'granularity': 'monthly', 'timestamp': '2016100100', 'access': 'all-access', 'agent': 'all-agents', 'views': 234}, {'project': 'en.wikipedia', 'article': 'Dance_Magazine\\'s_\"25_to_Watch\"', 'granularity': 'monthly', 'timestamp': '2016110100', 'access': 'all-access', 'agent': 'all-agents', 'views': 250}, {'project': 'en.wikipedia', 'article': 'Dance_Magazine\\'s_\"25_to_Watch\"', 'granularity': 'monthly', 'timestamp': '2016120100', 'access': 'all-access', 'agent': 'all-agents', 'views': 389}, {'project': 'en.wikipedia', 'article': 'Dance_Magazine\\'s_\"25_to_Watch\"', 'granularity': 'monthly', 'timestamp': '2017010100', 'access': 'all-access', 'agent': 'all-agents', 'views': 358}, {'project': 'en.wikipedia', 'article': 'Dance_Magazine\\'s_\"25_to_Watch\"', 'granularity': 'monthly', 'timestamp': '2017020100', 'access': 'all-access', 'agent': 'all-agents', 'views': 301}, {'project': 'en.wikipedia', 'article': 'Dance_Magazine\\'s_\"25_to_Watch\"', 'granularity': 'monthly', 'timestamp': '2017030100', 'access': 'all-access', 'agent': 'all-agents', 'views': 324}, {'project': 'en.wikipedia', 'article': 'Dance_Magazine\\'s_\"25_to_Watch\"', 'granularity': 'monthly', 'timestamp': '2017040100', 'access': 'all-access', 'agent': 'all-agents', 'views': 341}, {'project': 'en.wikipedia', 'article': 'Dance_Magazine\\'s_\"25_to_Watch\"', 'granularity': 'monthly', 'timestamp': '2017050100', 'access': 'all-access', 'agent': 'all-agents', 'views': 267}, {'project': 'en.wikipedia', 'article': 'Dance_Magazine\\'s_\"25_to_Watch\"', 'granularity': 'monthly', 'timestamp': '2017060100', 'access': 'all-access', 'agent': 'all-agents', 'views': 258}, {'project': 'en.wikipedia', 'article': 'Dance_Magazine\\'s_\"25_to_Watch\"', 'granularity': 'monthly', 'timestamp': '2017070100', 'access': 'all-access', 'agent': 'all-agents', 'views': 258}, {'project': 'en.wikipedia', 'article': 'Dance_Magazine\\'s_\"25_to_Watch\"', 'granularity': 'monthly', 'timestamp': '2017080100', 'access': 'all-access', 'agent': 'all-agents', 'views': 258}, {'project': 'en.wikipedia', 'article': 'Dance_Magazine\\'s_\"25_to_Watch\"', 'granularity': 'monthly', 'timestamp': '2017090100', 'access': 'all-access', 'agent': 'all-agents', 'views': 298}, {'project': 'en.wikipedia', 'article': 'Dance_Magazine\\'s_\"25_to_Watch\"', 'granularity': 'monthly', 'timestamp': '2017100100', 'access': 'all-access', 'agent': 'all-agents', 'views': 348}, {'project': 'en.wikipedia', 'article': 'Dance_Magazine\\'s_\"25_to_Watch\"', 'granularity': 'monthly', 'timestamp': '2017110100', 'access': 'all-access', 'agent': 'all-agents', 'views': 340}, {'project': 'en.wikipedia', 'article': 'Dance_Magazine\\'s_\"25_to_Watch\"', 'granularity': 'monthly', 'timestamp': '2017120100', 'access': 'all-access', 'agent': 'all-agents', 'views': 516}, {'project': 'en.wikipedia', 'article': 'Dance_Magazine\\'s_\"25_to_Watch\"', 'granularity': 'monthly', 'timestamp': '2018010100', 'access': 'all-access', 'agent': 'all-agents', 'views': 588}, {'project': 'en.wikipedia', 'article': 'Dance_Magazine\\'s_\"25_to_Watch\"', 'granularity': 'monthly', 'timestamp': '2018020100', 'access': 'all-access', 'agent': 'all-agents', 'views': 430}, {'project': 'en.wikipedia', 'article': 'Dance_Magazine\\'s_\"25_to_Watch\"', 'granularity': 'monthly', 'timestamp': '2018030100', 'access': 'all-access', 'agent': 'all-agents', 'views': 455}, {'project': 'en.wikipedia', 'article': 'Dance_Magazine\\'s_\"25_to_Watch\"', 'granularity': 'monthly', 'timestamp': '2018040100', 'access': 'all-access', 'agent': 'all-agents', 'views': 374}, {'project': 'en.wikipedia', 'article': 'Dance_Magazine\\'s_\"25_to_Watch\"', 'granularity': 'monthly', 'timestamp': '2018050100', 'access': 'all-access', 'agent': 'all-agents', 'views': 342}, {'project': 'en.wikipedia', 'article': 'Dance_Magazine\\'s_\"25_to_Watch\"', 'granularity': 'monthly', 'timestamp': '2018060100', 'access': 'all-access', 'agent': 'all-agents', 'views': 428}, {'project': 'en.wikipedia', 'article': 'Dance_Magazine\\'s_\"25_to_Watch\"', 'granularity': 'monthly', 'timestamp': '2018070100', 'access': 'all-access', 'agent': 'all-agents', 'views': 303}, {'project': 'en.wikipedia', 'article': 'Dance_Magazine\\'s_\"25_to_Watch\"', 'granularity': 'monthly', 'timestamp': '2018080100', 'access': 'all-access', 'agent': 'all-agents', 'views': 239}, {'project': 'en.wikipedia', 'article': 'Dance_Magazine\\'s_\"25_to_Watch\"', 'granularity': 'monthly', 'timestamp': '2018090100', 'access': 'all-access', 'agent': 'all-agents', 'views': 325}, {'project': 'en.wikipedia', 'article': 'Dance_Magazine\\'s_\"25_to_Watch\"', 'granularity': 'monthly', 'timestamp': '2018100100', 'access': 'all-access', 'agent': 'all-agents', 'views': 275}, {'project': 'en.wikipedia', 'article': 'Dance_Magazine\\'s_\"25_to_Watch\"', 'granularity': 'monthly', 'timestamp': '2018110100', 'access': 'all-access', 'agent': 'all-agents', 'views': 327}, {'project': 'en.wikipedia', 'article': 'Dance_Magazine\\'s_\"25_to_Watch\"', 'granularity': 'monthly', 'timestamp': '2018120100', 'access': 'all-access', 'agent': 'all-agents', 'views': 307}, {'project': 'en.wikipedia', 'article': 'Dance_Magazine\\'s_\"25_to_Watch\"', 'granularity': 'monthly', 'timestamp': '2019010100', 'access': 'all-access', 'agent': 'all-agents', 'views': 350}]}\n",
            "CPU times: user 17.6 ms, sys: 2.09 ms, total: 19.7 ms\n",
            "Wall time: 284 ms\n"
          ],
          "name": "stdout"
        }
      ]
    },
    {
      "metadata": {
        "id": "-ASfvtUzdanh",
        "colab_type": "text"
      },
      "cell_type": "markdown",
      "source": [
        "結果を集計する。"
      ]
    },
    {
      "metadata": {
        "id": "ysEv8aFraqf9",
        "colab_type": "code",
        "outputId": "26833ef1-7cca-497b-dce3-b032dae16930",
        "colab": {
          "base_uri": "https://localhost:8080/",
          "height": 34
        }
      },
      "cell_type": "code",
      "source": [
        "total_page_view = 0\n",
        "for item in r.json()['items']:\n",
        "  total_page_view += item['views']\n",
        "print(total_page_view)"
      ],
      "execution_count": 14,
      "outputs": [
        {
          "output_type": "stream",
          "text": [
            "14054\n"
          ],
          "name": "stdout"
        }
      ]
    },
    {
      "metadata": {
        "id": "Sei7ElLRd3VU",
        "colab_type": "code",
        "colab": {}
      },
      "cell_type": "code",
      "source": [
        ""
      ],
      "execution_count": 0,
      "outputs": []
    }
  ]
}