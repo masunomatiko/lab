{
  "nbformat": 4,
  "nbformat_minor": 0,
  "metadata": {
    "colab": {
      "name": "IIR_Chapter1.ipynb",
      "version": "0.3.2",
      "provenance": [],
      "include_colab_link": true
    },
    "kernelspec": {
      "name": "python3",
      "display_name": "Python 3"
    }
  },
  "cells": [
    {
      "cell_type": "markdown",
      "metadata": {
        "id": "view-in-github",
        "colab_type": "text"
      },
      "source": [
        "<a href=\"https://colab.research.google.com/github/masunomatiko/lab/blob/master/IIR_Chapter1.ipynb\" target=\"_parent\"><img src=\"https://colab.research.google.com/assets/colab-badge.svg\" alt=\"Open In Colab\"/></a>"
      ]
    },
    {
      "metadata": {
        "id": "HHan6ij8nUJ6",
        "colab_type": "text"
      },
      "cell_type": "markdown",
      "source": [
        "# はじめに\n",
        "Stanford NLPの[このページ](https://nlp.stanford.edu/IR-book/html/htmledition/irbook.html)を読んで書いています。<br>PDF版は[こっち](https://nlp.stanford.edu/IR-book/pdf/irbookonlinereading.pdf)<br>日本語版も読んでみたけれど訳語がよくわからなくて諦めた。\n",
        "\n",
        "# 1. Boolean Retrieval\n",
        "The definition of IR:\n",
        "\n",
        "**`Information retrieval (IR) is finding material (usually documents) of an unstructured nature (usually text) that satisfies an information need from within large collections (usually stored on computers).`**\n",
        "\n",
        "## 1-1. "
      ]
    },
    {
      "metadata": {
        "id": "TT1tC4D-nLGZ",
        "colab_type": "code",
        "colab": {}
      },
      "cell_type": "code",
      "source": [
        ""
      ],
      "execution_count": 0,
      "outputs": []
    }
  ]
}