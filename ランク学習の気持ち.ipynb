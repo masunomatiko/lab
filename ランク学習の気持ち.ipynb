{
  "nbformat": 4,
  "nbformat_minor": 0,
  "metadata": {
    "colab": {
      "name": "ランク学習の気持ち.ipynb",
      "version": "0.3.2",
      "provenance": [],
      "include_colab_link": true
    },
    "kernelspec": {
      "display_name": "Python 3",
      "language": "python",
      "name": "python3"
    }
  },
  "cells": [
    {
      "cell_type": "markdown",
      "metadata": {
        "id": "view-in-github",
        "colab_type": "text"
      },
      "source": [
        "<a href=\"https://colab.research.google.com/github/masunomatiko/lab/blob/master/%E3%83%A9%E3%83%B3%E3%82%AF%E5%AD%A6%E7%BF%92%E3%81%AE%E6%B0%97%E6%8C%81%E3%81%A1.ipynb\" target=\"_parent\"><img src=\"https://colab.research.google.com/assets/colab-badge.svg\" alt=\"Open In Colab\"/></a>"
      ]
    },
    {
      "metadata": {
        "id": "rvTpTn50B8wD",
        "colab_type": "text"
      },
      "cell_type": "markdown",
      "source": [
        "# ランク学習の気持ち"
      ]
    },
    {
      "metadata": {
        "id": "Fc031cVIiaAi",
        "colab_type": "code",
        "outputId": "f6430ff2-3f7f-4a66-ca8b-eb5c1faba67f",
        "colab": {
          "base_uri": "https://localhost:8080/",
          "height": 51
        }
      },
      "cell_type": "code",
      "source": [
        "from sklearn.datasets import fetch_20newsgroups\n",
        "newsgroups_train = fetch_20newsgroups(subset='train')\n",
        "newsgroups_test = fetch_20newsgroups(subset='test')"
      ],
      "execution_count": 0,
      "outputs": [
        {
          "output_type": "stream",
          "text": [
            "Downloading 20news dataset. This may take a few minutes.\n",
            "Downloading dataset from https://ndownloader.figshare.com/files/5975967 (14 MB)\n"
          ],
          "name": "stderr"
        }
      ]
    },
    {
      "metadata": {
        "id": "SIe8bcQLg_Fs",
        "colab_type": "text"
      },
      "cell_type": "markdown",
      "source": [
        "## 0. クエリと文書のマッチングスコアリング手法"
      ]
    },
    {
      "metadata": {
        "id": "1YHZcb5ThMxg",
        "colab_type": "text"
      },
      "cell_type": "markdown",
      "source": [
        "### Tf-Idf\n",
        "**各文書を特徴付ける単語ほど大きくなる**<br>\n",
        "\n",
        "\n",
        "ある単語iについて、<br>\n",
        "Tf-Idf =（文書内での出現頻度）*（文書集合での出現頻度）"
      ]
    },
    {
      "metadata": {
        "id": "YvlTfTUanK30",
        "colab_type": "code",
        "colab": {}
      },
      "cell_type": "code",
      "source": [
        "# sklearnから使える\n",
        "import numpy as np\n",
        "from sklearn.feature_extraction.text import TfidfVectorizer\n",
        "from sklearn.model_selection import train_test_split\n",
        "\n",
        "vectorizer = TfidfVectorizer(max_df=0.5, min_df=4)\n",
        "data = vectorizer.fit_transform(newsgroups_train.data[:1000]).toarray()\n",
        "name = np.array(vectorizer.get_feature_names())"
      ],
      "execution_count": 0,
      "outputs": []
    },
    {
      "metadata": {
        "id": "hR4ng6konK38",
        "colab_type": "code",
        "colab": {}
      },
      "cell_type": "code",
      "source": [
        "index = data.argsort(axis=1)[:,::-1]\n",
        "word =name[index]"
      ],
      "execution_count": 0,
      "outputs": []
    },
    {
      "metadata": {
        "id": "BPPVsthwjVhZ",
        "colab_type": "code",
        "outputId": "fd8b6e49-323a-4b2b-868f-08a37175c846",
        "colab": {
          "base_uri": "https://localhost:8080/",
          "height": 527
        }
      },
      "cell_type": "code",
      "source": [
        "for w, target in zip(word[:10, :5], newsgroups_train.target):\n",
        "    # 各文書ごとにtarget（ラベル）とtop nの重要語を表示\n",
        "    print('正解ラベル', newsgroups_train.target_names[target].replace('.', ' '))\n",
        "    print(w)\n",
        "    print('')"
      ],
      "execution_count": 0,
      "outputs": [
        {
          "output_type": "stream",
          "text": [
            "正解ラベル rec autos\n",
            "['car' 'umd' 'was' '70s' 'funky']\n",
            "\n",
            "正解ラベル comp sys mac hardware\n",
            "['clock' 'si' 'washington' 'carson' 'kuo']\n",
            "\n",
            "正解ラベル comp sys mac hardware\n",
            "['180' 'purdue' 'powerbook' 'display' 'willis']\n",
            "\n",
            "正解ラベル comp graphics\n",
            "['harris' 'jgreen' 'iastate' 'csd' 'green']\n",
            "\n",
            "正解ラベル sci space\n",
            "['errors' 'warning' 'bugs' 'std' 'launch']\n",
            "\n",
            "正解ラベル talk politics guns\n",
            "['weapons' 'destruction' 'mass' 'stratus' 'cdt']\n",
            "\n",
            "正解ラベル sci med\n",
            "['uchicago' 'treatment' 'brian' 'thank' 'rn']\n",
            "\n",
            "正解ラベル comp sys ibm pc hardware\n",
            "['scsi' 'chip' 'mac' 'ranges' 'nmsu']\n",
            "\n",
            "正解ラベル comp os ms-windows misc\n",
            "['win' 'help' 'bmp' 'icon' 'iowa']\n",
            "\n",
            "正解ラベル comp sys mac hardware\n",
            "['board' 'licensing' 'file' 'stan' 'designs']\n",
            "\n"
          ],
          "name": "stdout"
        }
      ]
    },
    {
      "metadata": {
        "id": "7SlaQdq5jV07",
        "colab_type": "text"
      },
      "cell_type": "markdown",
      "source": [
        "### BM25\n",
        "TfIdfに加えて、**より短い文書において出現頻度の高い単語**ほど大きくなる<br>\n",
        "NDL = （文書の単語数） \\* （文書集合の平均単語数）<br>\n",
        "ある単語について、<br>\n",
        "CW = (TF \\* IDF \\* (k1 + 1) ) / (k1 \\* (1 - b + (b \\* NDL) + TF))\n",
        "\n"
      ]
    },
    {
      "metadata": {
        "id": "0yqRbKQunK3_",
        "colab_type": "code",
        "colab": {}
      },
      "cell_type": "code",
      "source": [
        "# gensimから使える\n",
        "from gensim.summarization.bm25 import get_bm25_weights\n",
        "corpus = []\n",
        "for text in newsgroups_train.data[:1000]:\n",
        "  corpus.append(text.split())"
      ],
      "execution_count": 0,
      "outputs": []
    },
    {
      "metadata": {
        "id": "bI0BO5oY0LlL",
        "colab_type": "code",
        "outputId": "8d4abab6-1489-4a6b-ff23-2d8f8d7ca70d",
        "colab": {
          "base_uri": "https://localhost:8080/",
          "height": 357
        }
      },
      "cell_type": "code",
      "source": [
        "results = get_bm25_weights(corpus, n_jobs=-1)\n",
        "results[0][:20]"
      ],
      "execution_count": 0,
      "outputs": [
        {
          "output_type": "execute_result",
          "data": {
            "text/plain": [
              "[500.12099319773563,\n",
              " 74.19921994367022,\n",
              " 94.20017310724802,\n",
              " 61.02839301236178,\n",
              " 76.00875423106261,\n",
              " 81.68202141201162,\n",
              " 59.396554023466756,\n",
              " 78.6700722254541,\n",
              " 55.47459872606066,\n",
              " 81.14580804047165,\n",
              " 81.71106858765052,\n",
              " 105.924200073023,\n",
              " 15.524192936203445,\n",
              " 78.54255785694188,\n",
              " 69.88936990985424,\n",
              " 79.0514122142424,\n",
              " 96.46020025185516,\n",
              " 114.68133734762905,\n",
              " 90.18225139010069,\n",
              " 73.96990098226352]"
            ]
          },
          "metadata": {
            "tags": []
          },
          "execution_count": 5
        }
      ]
    },
    {
      "metadata": {
        "id": "DjhA-eSQnpNW",
        "colab_type": "text"
      },
      "cell_type": "markdown",
      "source": [
        "## 1. 学習データ"
      ]
    },
    {
      "metadata": {
        "id": "EoUaqOsaV_bp",
        "colab_type": "text"
      },
      "cell_type": "markdown",
      "source": [
        "「クエリ」「クエリに対応する検索結果リスト」が学習データとして与えられる。<br>\n",
        "検索結果リストの各文書dには、クエリqと文書dの関連度を表すラベルyが付与されている。また、クエリqと文書dのペアから特徴量xが作られる。<br>\n",
        "\n",
        "\n",
        "実際に使う学習データはデータフレームからこんな感じで作る"
      ]
    },
    {
      "metadata": {
        "id": "8Qq_IfjZpVMl",
        "colab_type": "code",
        "colab": {
          "base_uri": "https://localhost:8080/",
          "height": 111
        },
        "outputId": "c5b1d6d2-987f-4e6e-a054-bbaf2ed0f22f"
      },
      "cell_type": "code",
      "source": [
        "import pandas as pd\n",
        "\n",
        "df = pd.DataFrame([[4, 0.2, 0.4, 0.2], [1, 0.1, 0.14, 0.02]], index=['new', 'old'], columns=['score', 'f1', 'f2', 'f3'])\n",
        "df"
      ],
      "execution_count": 1,
      "outputs": [
        {
          "output_type": "execute_result",
          "data": {
            "text/html": [
              "<div>\n",
              "<style scoped>\n",
              "    .dataframe tbody tr th:only-of-type {\n",
              "        vertical-align: middle;\n",
              "    }\n",
              "\n",
              "    .dataframe tbody tr th {\n",
              "        vertical-align: top;\n",
              "    }\n",
              "\n",
              "    .dataframe thead th {\n",
              "        text-align: right;\n",
              "    }\n",
              "</style>\n",
              "<table border=\"1\" class=\"dataframe\">\n",
              "  <thead>\n",
              "    <tr style=\"text-align: right;\">\n",
              "      <th></th>\n",
              "      <th>score</th>\n",
              "      <th>f1</th>\n",
              "      <th>f2</th>\n",
              "      <th>f3</th>\n",
              "    </tr>\n",
              "  </thead>\n",
              "  <tbody>\n",
              "    <tr>\n",
              "      <th>new</th>\n",
              "      <td>4</td>\n",
              "      <td>0.2</td>\n",
              "      <td>0.40</td>\n",
              "      <td>0.20</td>\n",
              "    </tr>\n",
              "    <tr>\n",
              "      <th>old</th>\n",
              "      <td>1</td>\n",
              "      <td>0.1</td>\n",
              "      <td>0.14</td>\n",
              "      <td>0.02</td>\n",
              "    </tr>\n",
              "  </tbody>\n",
              "</table>\n",
              "</div>"
            ],
            "text/plain": [
              "     score   f1    f2    f3\n",
              "new      4  0.2  0.40  0.20\n",
              "old      1  0.1  0.14  0.02"
            ]
          },
          "metadata": {
            "tags": []
          },
          "execution_count": 1
        }
      ]
    },
    {
      "metadata": {
        "id": "ywBoEJ7MFqLc",
        "colab_type": "code",
        "colab": {}
      },
      "cell_type": "code",
      "source": [
        "df['f1'] = list(map(lambda x: '1:'+str(x), df['f1']))\n",
        "df['f2'] = list(map(lambda x: '2:'+str(x), df['f2']))\n",
        "df['f3'] = list(map(lambda x: '3:'+str(x), df['f3']))\n",
        "df.to_csv('lambdarank.csv', index=False, header=False, sep=' ')"
      ],
      "execution_count": 0,
      "outputs": []
    },
    {
      "metadata": {
        "id": "Pf220Ih4F4_o",
        "colab_type": "text"
      },
      "cell_type": "markdown",
      "source": [
        "こんな感じのファイルができる\n",
        "\n",
        "左端がラベルy、続く数字が特徴量のラベル、コロンのあとは特徴量の値\n",
        "```\n",
        "4 1:0.2 2:0.4 3:0.2\n",
        "1 1:0.1 2:0.14 3:0.02\n",
        "```"
      ]
    },
    {
      "metadata": {
        "id": "zJUA8yDLrGOE",
        "colab_type": "text"
      },
      "cell_type": "markdown",
      "source": [
        "## 2. 特徴量\n",
        "### 文書から得られる特徴量\n",
        "文書の単語数とか、特定の単語が文書に含まれるか(BoW)とか\n",
        "### クエリから得られる特徴量\n",
        "クエリの長さとか、ログにおけるクエリの出現頻度とか\n",
        "### 文書とクエリのペアから得られる特徴量\n",
        "TfIdfとか、BM25とか\n",
        "### そのほかにも、、\n",
        "パーソナライズするならユーザのデモグラフィック情報とか、位置情報とか"
      ]
    },
    {
      "metadata": {
        "id": "1Dup5OwNrGrn",
        "colab_type": "text"
      },
      "cell_type": "markdown",
      "source": [
        "## 3. 損失関数\n",
        "### ポイントワイズ\n",
        "学習データ(x, y)からランキングモデルf(x)から出力するy^がラベルyを正確に当てることができれば検索結果のランキングも正しいものになるという仮定。\n",
        "\n",
        "\n",
        "ポイントワイズの損失関数は、<br>\n",
        "**L0 = ΣL( f(x), y ) **<br>で定義される。\n",
        "\n",
        "ここで、f(x)は分類問題、回帰問題のようにクエリと文書の関連度を予測するモデルではないので、ランキングが合っていれば損失は0である。\n",
        "\n",
        "![](https://cdn-ak.f.st-hatena.com/images/fotolife/s/sz_dr/20181204/20181204002443.png)\n",
        "[ランク学習ってどうやって学習するの？学習データ・特徴量・損失関数](http://szdr.hatenablog.com/entry/2018/12/04/010611)から引用させていただきました\n",
        "\n",
        ">*もし単純に二乗誤差を考えると大きい損失が出てきますが、今回出力したスコアでも検索結果ランキングとしては正しい（スコアの順に文書をランキングすれば、関連度の順に並ぶ）ので、ランキングという観点から考えると損失は0であるべきです。*"
      ]
    },
    {
      "metadata": {
        "id": "Ki1XFQhxrG44",
        "colab_type": "code",
        "colab": {}
      },
      "cell_type": "code",
      "source": [
        ""
      ],
      "execution_count": 0,
      "outputs": []
    },
    {
      "metadata": {
        "id": "q-u_tAi6rHEr",
        "colab_type": "text"
      },
      "cell_type": "markdown",
      "source": [
        "### ペアワイズ\n",
        "2つの文書ペアを正しく順序づけできれば、検索結果は正しいランキングになると仮定。\n",
        "\n",
        "ペアワイズの損失関数は、<br>**L0 = Σ_q Σ_i,j L( f(xi), f(xj) )** (ただし、yi > yj )<br>定義される。"
      ]
    },
    {
      "metadata": {
        "id": "LghsRgFjrHtP",
        "colab_type": "code",
        "colab": {}
      },
      "cell_type": "code",
      "source": [
        ""
      ],
      "execution_count": 0,
      "outputs": []
    },
    {
      "metadata": {
        "id": "RZx20QAA_-wr",
        "colab_type": "text"
      },
      "cell_type": "markdown",
      "source": [
        "　### リストワイズ\n",
        " ランキング問題の評価指標において、検索結果のリスト全体としていい並び順になっているかどうかを指標として計算するという考え方。\n",
        " \n",
        " リストワイズの損失関数は、<br>**L0 = Σ L( ( f(x1), y1 ), ... , ( f(xm), ym ) ) )**<br>で定義される。\n",
        " \n",
        " 例えばランキング問題の評価指標としてよく用いられるnDCGを直的最適化するとか（実際は緩和した問題を解くアルゴリズムが提案されている）。"
      ]
    },
    {
      "metadata": {
        "id": "NnkEwvIU__xp",
        "colab_type": "code",
        "colab": {}
      },
      "cell_type": "code",
      "source": [
        ""
      ],
      "execution_count": 0,
      "outputs": []
    }
  ]
}