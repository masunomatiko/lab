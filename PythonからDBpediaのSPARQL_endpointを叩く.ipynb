{
  "nbformat": 4,
  "nbformat_minor": 0,
  "metadata": {
    "colab": {
      "name": "PythonからDBpediaのSPARQL endpointを叩く.ipynb",
      "version": "0.3.2",
      "provenance": [],
      "collapsed_sections": [],
      "include_colab_link": true
    },
    "kernelspec": {
      "name": "python3",
      "display_name": "Python 3"
    }
  },
  "cells": [
    {
      "cell_type": "markdown",
      "metadata": {
        "id": "view-in-github",
        "colab_type": "text"
      },
      "source": [
        "<a href=\"https://colab.research.google.com/github/masunomatiko/lab/blob/master/Python%E3%81%8B%E3%82%89DBpedia%E3%81%AESPARQL_endpoint%E3%82%92%E5%8F%A9%E3%81%8F.ipynb\" target=\"_parent\"><img src=\"https://colab.research.google.com/assets/colab-badge.svg\" alt=\"Open In Colab\"/></a>"
      ]
    },
    {
      "metadata": {
        "id": "gFqeblC8vDl-",
        "colab_type": "text"
      },
      "cell_type": "markdown",
      "source": [
        "## やりたいこと\n",
        "*   DBpediaから日付型のプロパティを取得する\n",
        "*   特定のプロパティをもつページのID `wikiPageID` とその述語 `value` を取得する\n"
      ]
    },
    {
      "metadata": {
        "id": "XfWPiAWguNG5",
        "colab_type": "text"
      },
      "cell_type": "markdown",
      "source": [
        "## ライブラリ\n",
        "`sparqlwrapper` でPythonからSPARQLを実行できる。"
      ]
    },
    {
      "metadata": {
        "id": "Haao7MoHDovo",
        "colab_type": "code",
        "outputId": "9fa725f6-43d0-48de-aea9-765fc8c56035",
        "colab": {
          "base_uri": "https://localhost:8080/",
          "height": 241
        }
      },
      "cell_type": "code",
      "source": [
        "!pip install sparqlwrapper\n",
        "from SPARQLWrapper import SPARQLWrapper"
      ],
      "execution_count": 1,
      "outputs": [
        {
          "output_type": "stream",
          "text": [
            "Collecting sparqlwrapper\n",
            "  Downloading https://files.pythonhosted.org/packages/7f/c3/72d2d0a2ad86bd8d2bc762406c838f479c421678161cf78585d085436919/SPARQLWrapper-1.8.2-py3-none-any.whl\n",
            "Collecting rdflib>=4.0 (from sparqlwrapper)\n",
            "\u001b[?25l  Downloading https://files.pythonhosted.org/packages/3c/fe/630bacb652680f6d481b9febbb3e2c3869194a1a5fc3401a4a41195a2f8f/rdflib-4.2.2-py3-none-any.whl (344kB)\n",
            "\u001b[K    100% |████████████████████████████████| 348kB 12.3MB/s \n",
            "\u001b[?25hRequirement already satisfied: pyparsing in /usr/local/lib/python3.6/dist-packages (from rdflib>=4.0->sparqlwrapper) (2.3.1)\n",
            "Collecting isodate (from rdflib>=4.0->sparqlwrapper)\n",
            "\u001b[?25l  Downloading https://files.pythonhosted.org/packages/9b/9f/b36f7774ff5ea8e428fdcfc4bb332c39ee5b9362ddd3d40d9516a55221b2/isodate-0.6.0-py2.py3-none-any.whl (45kB)\n",
            "\u001b[K    100% |████████████████████████████████| 51kB 20.4MB/s \n",
            "\u001b[?25hRequirement already satisfied: six in /usr/local/lib/python3.6/dist-packages (from isodate->rdflib>=4.0->sparqlwrapper) (1.11.0)\n",
            "Installing collected packages: isodate, rdflib, sparqlwrapper\n",
            "Successfully installed isodate-0.6.0 rdflib-4.2.2 sparqlwrapper-1.8.2\n"
          ],
          "name": "stdout"
        }
      ]
    },
    {
      "metadata": {
        "id": "hTxT0DdWurEF",
        "colab_type": "text"
      },
      "cell_type": "markdown",
      "source": [
        "## DBpediaからSPARQLで抽出\n",
        "SPARQLをインスタンス化する。 `endpoint` は叩く先のURL、 `returnFormat` は結果の形式（今回はJSON）。"
      ]
    },
    {
      "metadata": {
        "id": "gCp-7lH7Ekny",
        "colab_type": "code",
        "colab": {}
      },
      "cell_type": "code",
      "source": [
        "sparql = SPARQLWrapper(endpoint='http://dbpedia.org/sparql', returnFormat='json')"
      ],
      "execution_count": 0,
      "outputs": []
    },
    {
      "metadata": {
        "id": "ML5yO9lVux0S",
        "colab_type": "text"
      },
      "cell_type": "markdown",
      "source": [
        "クエリを書く。[このページ](http://www.aise.ics.saitama-u.ac.jp/~gotoh/IntroSPARQL.html#toc9)参照。次のセルの `.query()` で結果取得。\n",
        "\n",
        "まずは日付型 `xsd:date` をもつプロパティを取得。"
      ]
    },
    {
      "metadata": {
        "id": "ZY43uFRMl3p6",
        "colab_type": "code",
        "colab": {}
      },
      "cell_type": "code",
      "source": [
        "sparql.setQuery(\"select ?p where {?p a owl:DatatypeProperty ; rdfs:range xsd:date .}  group by ?p\")"
      ],
      "execution_count": 0,
      "outputs": []
    },
    {
      "metadata": {
        "id": "sT1Ff1-jFIdo",
        "colab_type": "code",
        "colab": {}
      },
      "cell_type": "code",
      "source": [
        "results = sparql.query().convert()"
      ],
      "execution_count": 0,
      "outputs": []
    },
    {
      "metadata": {
        "id": "s-YMD9gXFJP5",
        "colab_type": "code",
        "outputId": "c32809e0-c30c-4a0c-dade-fff9120b3a4e",
        "colab": {
          "base_uri": "https://localhost:8080/",
          "height": 34
        }
      },
      "cell_type": "code",
      "source": [
        "print(len(results[\"results\"][\"bindings\"]))"
      ],
      "execution_count": 61,
      "outputs": [
        {
          "output_type": "stream",
          "text": [
            "145\n"
          ],
          "name": "stdout"
        }
      ]
    },
    {
      "metadata": {
        "id": "UUQlCzZuzksN",
        "colab_type": "text"
      },
      "cell_type": "markdown",
      "source": [
        "取得した型を正規表現でリストに変換"
      ]
    },
    {
      "metadata": {
        "id": "Z3UxgvZ4z361",
        "colab_type": "code",
        "colab": {
          "base_uri": "https://localhost:8080/",
          "height": 34
        },
        "outputId": "4a0d7a24-11ef-4bfb-9833-15775532bec2"
      },
      "cell_type": "code",
      "source": [
        "import re\n",
        "import joblib\n",
        "properties = []\n",
        "for r in results[\"results\"][\"bindings\"]:\n",
        "  prop = r['p']['value'].replace('http://dbpedia.org/ontology/', '')\n",
        "  properties.append(prop)\n",
        "joblib.dump(properties, 'properties', compress=3)"
      ],
      "execution_count": 58,
      "outputs": [
        {
          "output_type": "execute_result",
          "data": {
            "text/plain": [
              "145"
            ]
          },
          "metadata": {
            "tags": []
          },
          "execution_count": 58
        }
      ]
    },
    {
      "metadata": {
        "id": "X45ZTBNE7LnV",
        "colab_type": "text"
      },
      "cell_type": "markdown",
      "source": [
        "あるプロパティについてそのプロパティを述語としてもつトリプルを検索し、そのWikipediaページのIDを取得する。"
      ]
    },
    {
      "metadata": {
        "id": "9uU9TizsFCiQ",
        "colab_type": "code",
        "colab": {}
      },
      "cell_type": "code",
      "source": [
        "sparql.setQuery(\"\"\"\n",
        "  PREFIX dbo: <http://dbpedia.org/ontology/>\n",
        "  SELECT\n",
        "    ?birth_date\n",
        "    ?page\n",
        "  WHERE\n",
        "    { ?title dbo:birthDate ?birth_date;\n",
        "    dbo:wikiPageID ?page.}\n",
        "\"\"\")"
      ],
      "execution_count": 0,
      "outputs": []
    },
    {
      "metadata": {
        "id": "NTHSLqpE90Ux",
        "colab_type": "code",
        "colab": {}
      },
      "cell_type": "code",
      "source": [
        "results = sparql.query().convert()"
      ],
      "execution_count": 0,
      "outputs": []
    },
    {
      "metadata": {
        "id": "oU8dVJSS_NaT",
        "colab_type": "text"
      },
      "cell_type": "markdown",
      "source": [
        "colabから叩いてるかな？上限は10000らしい。あとでローカルでも試してみる。"
      ]
    },
    {
      "metadata": {
        "id": "Mmr7e-Co91jL",
        "colab_type": "code",
        "colab": {
          "base_uri": "https://localhost:8080/",
          "height": 34
        },
        "outputId": "04d17ead-4f48-4f35-bf99-3d51b5cf23b3"
      },
      "cell_type": "code",
      "source": [
        "len(results['results']['bindings'])"
      ],
      "execution_count": 65,
      "outputs": [
        {
          "output_type": "execute_result",
          "data": {
            "text/plain": [
              "10000"
            ]
          },
          "metadata": {
            "tags": []
          },
          "execution_count": 65
        }
      ]
    },
    {
      "metadata": {
        "id": "h2Lsx_ieAlZD",
        "colab_type": "text"
      },
      "cell_type": "markdown",
      "source": [
        "取得した結果をデータフレームに入れる。"
      ]
    },
    {
      "metadata": {
        "id": "kVLPVcBH93Na",
        "colab_type": "code",
        "colab": {
          "base_uri": "https://localhost:8080/",
          "height": 204
        },
        "outputId": "ca8d9c40-0ae8-4dd0-caa3-1987653edc85"
      },
      "cell_type": "code",
      "source": [
        "import pandas as pd\n",
        "date = []\n",
        "wiki_id = []\n",
        "for r in results['results']['bindings']:\n",
        "  date.append(r['birth_date']['value'])\n",
        "  wiki_id.append(r['page']['value'])\n",
        "\n",
        "df = pd.DataFrame(columns=['wiki_id', 'date'])\n",
        "df['wiki_id'] = wiki_id\n",
        "df['date'] = date\n",
        "df.head()"
      ],
      "execution_count": 68,
      "outputs": [
        {
          "output_type": "execute_result",
          "data": {
            "text/html": [
              "<div>\n",
              "<style scoped>\n",
              "    .dataframe tbody tr th:only-of-type {\n",
              "        vertical-align: middle;\n",
              "    }\n",
              "\n",
              "    .dataframe tbody tr th {\n",
              "        vertical-align: top;\n",
              "    }\n",
              "\n",
              "    .dataframe thead th {\n",
              "        text-align: right;\n",
              "    }\n",
              "</style>\n",
              "<table border=\"1\" class=\"dataframe\">\n",
              "  <thead>\n",
              "    <tr style=\"text-align: right;\">\n",
              "      <th></th>\n",
              "      <th>wiki_id</th>\n",
              "      <th>date</th>\n",
              "    </tr>\n",
              "  </thead>\n",
              "  <tbody>\n",
              "    <tr>\n",
              "      <th>0</th>\n",
              "      <td>38616368</td>\n",
              "      <td>1985-1-1</td>\n",
              "    </tr>\n",
              "    <tr>\n",
              "      <th>1</th>\n",
              "      <td>24188476</td>\n",
              "      <td>1937-10-9</td>\n",
              "    </tr>\n",
              "    <tr>\n",
              "      <th>2</th>\n",
              "      <td>34851942</td>\n",
              "      <td>1896-1-1</td>\n",
              "    </tr>\n",
              "    <tr>\n",
              "      <th>3</th>\n",
              "      <td>35710429</td>\n",
              "      <td>1972-1-1</td>\n",
              "    </tr>\n",
              "    <tr>\n",
              "      <th>4</th>\n",
              "      <td>51206686</td>\n",
              "      <td>1899-1-1</td>\n",
              "    </tr>\n",
              "  </tbody>\n",
              "</table>\n",
              "</div>"
            ],
            "text/plain": [
              "    wiki_id       date\n",
              "0  38616368   1985-1-1\n",
              "1  24188476  1937-10-9\n",
              "2  34851942   1896-1-1\n",
              "3  35710429   1972-1-1\n",
              "4  51206686   1899-1-1"
            ]
          },
          "metadata": {
            "tags": []
          },
          "execution_count": 68
        }
      ]
    },
    {
      "metadata": {
        "id": "TQwRFBN4_VR8",
        "colab_type": "code",
        "colab": {}
      },
      "cell_type": "code",
      "source": [
        ""
      ],
      "execution_count": 0,
      "outputs": []
    }
  ]
}